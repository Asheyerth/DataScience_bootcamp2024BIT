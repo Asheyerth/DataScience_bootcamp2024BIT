{
 "cells": [
  {
   "cell_type": "markdown",
   "metadata": {},
   "source": [
    "# Actividad 1: Elección Potenciales Dataset"
   ]
  },
  {
   "cell_type": "markdown",
   "metadata": {},
   "source": [
    "## Punto 1\n",
    " Identificar 3 datasets que cumplan con las siguientes condiciones:  \n",
    " a) al menos 2000 filas y  \n",
    " b) al menos 15 columnas.  \n",
    " Pueden buscar en las siguientes fuentes: GitLab, Github, Kaggle, Google Dataset Search (Si desean trabajar con un archivo propio se puede tambi´ en). Algunas API recomen dadas para obtener información: Marvel,PokeApi,CovidTracking,Nomics (Criptomonedas),Wheater API"
   ]
  },
  {
   "cell_type": "markdown",
   "metadata": {},
   "source": [
    "### Dataset escogido: Book-Crossing: User review ratings\n",
    "Contiene información de más de 649K registros que relacionan distintos problemas mentales con características específicas de canciones de música.   \n",
    "17 Columnas - Más de 640K de filas.  \n",
    "URL: https://www.kaggle.com/datasets/chlobon/mental-disorders-and-music-features"
   ]
  },
  {
   "cell_type": "markdown",
   "metadata": {},
   "source": [
    "## Punto 2\n",
    " Cargar los archivos correspondientes por medio de la librería pandas"
   ]
  },
  {
   "cell_type": "code",
   "execution_count": 6,
   "metadata": {},
   "outputs": [],
   "source": [
    "#Inicialización\n",
    "import os\n",
    "import pandas as pd"
   ]
  },
  {
   "cell_type": "code",
   "execution_count": 2,
   "metadata": {},
   "outputs": [
    {
     "name": "stderr",
     "output_type": "stream",
     "text": [
      "C:\\Users\\geral\\AppData\\Local\\Temp\\ipykernel_10192\\1838070207.py:3: DtypeWarning: Columns (4) have mixed types. Specify dtype option on import or set low_memory=False.\n",
      "  tabla=pd.read_csv('combined_features_disorder.csv',sep=',',encoding='utf-8')\n"
     ]
    },
    {
     "data": {
      "text/html": [
       "<div>\n",
       "<style scoped>\n",
       "    .dataframe tbody tr th:only-of-type {\n",
       "        vertical-align: middle;\n",
       "    }\n",
       "\n",
       "    .dataframe tbody tr th {\n",
       "        vertical-align: top;\n",
       "    }\n",
       "\n",
       "    .dataframe thead th {\n",
       "        text-align: right;\n",
       "    }\n",
       "</style>\n",
       "<table border=\"1\" class=\"dataframe\">\n",
       "  <thead>\n",
       "    <tr style=\"text-align: right;\">\n",
       "      <th></th>\n",
       "      <th>Unnamed: 0</th>\n",
       "      <th>...1</th>\n",
       "      <th>artist</th>\n",
       "      <th>lyric</th>\n",
       "      <th>created_at</th>\n",
       "      <th>type</th>\n",
       "      <th>title</th>\n",
       "      <th>user_id</th>\n",
       "      <th>src</th>\n",
       "      <th>disorder</th>\n",
       "      <th>danceability</th>\n",
       "      <th>energy</th>\n",
       "      <th>key</th>\n",
       "      <th>loudness</th>\n",
       "      <th>mode</th>\n",
       "      <th>speechiness</th>\n",
       "      <th>tempo</th>\n",
       "    </tr>\n",
       "  </thead>\n",
       "  <tbody>\n",
       "    <tr>\n",
       "      <th>0</th>\n",
       "      <td>1</td>\n",
       "      <td>0.0</td>\n",
       "      <td>Echo &amp; the Bunnymen</td>\n",
       "      <td>[Verse 1]\\nUnder blue moon I saw you\\nSo soon ...</td>\n",
       "      <td>Wed Jan 13 01:02:45 +0000 2021</td>\n",
       "      <td>P</td>\n",
       "      <td>The Killing Moon</td>\n",
       "      <td>4353e884c1</td>\n",
       "      <td>SPOTIFY</td>\n",
       "      <td>anxiety</td>\n",
       "      <td>0.568</td>\n",
       "      <td>0.829</td>\n",
       "      <td>7</td>\n",
       "      <td>-7.066</td>\n",
       "      <td>1</td>\n",
       "      <td>0.0303</td>\n",
       "      <td>124.201</td>\n",
       "    </tr>\n",
       "    <tr>\n",
       "      <th>1</th>\n",
       "      <td>2</td>\n",
       "      <td>1.0</td>\n",
       "      <td>Paul McCartney</td>\n",
       "      <td>NaN</td>\n",
       "      <td>Wed Jan 13 01:02:45 +0000 2021</td>\n",
       "      <td>P</td>\n",
       "      <td>Monkberry Moon Delight - Remastered 2012</td>\n",
       "      <td>4353e884c1</td>\n",
       "      <td>SPOTIFY</td>\n",
       "      <td>anxiety</td>\n",
       "      <td>0.567</td>\n",
       "      <td>0.714</td>\n",
       "      <td>0</td>\n",
       "      <td>-8.036</td>\n",
       "      <td>0</td>\n",
       "      <td>0.0245</td>\n",
       "      <td>97.417</td>\n",
       "    </tr>\n",
       "    <tr>\n",
       "      <th>2</th>\n",
       "      <td>3</td>\n",
       "      <td>2.0</td>\n",
       "      <td>Turin Brakes</td>\n",
       "      <td>Oooh, oooh, oooh (x2)\\nSometimes just letting ...</td>\n",
       "      <td>Wed Jan 13 01:02:45 +0000 2021</td>\n",
       "      <td>P</td>\n",
       "      <td>Red Moon</td>\n",
       "      <td>4353e884c1</td>\n",
       "      <td>SPOTIFY</td>\n",
       "      <td>anxiety</td>\n",
       "      <td>0.307</td>\n",
       "      <td>0.918</td>\n",
       "      <td>11</td>\n",
       "      <td>-5.806</td>\n",
       "      <td>0</td>\n",
       "      <td>0.0782</td>\n",
       "      <td>161.955</td>\n",
       "    </tr>\n",
       "    <tr>\n",
       "      <th>3</th>\n",
       "      <td>4</td>\n",
       "      <td>4.0</td>\n",
       "      <td>Radiohead</td>\n",
       "      <td>[Verse 1]\\nI sucked the moon\\nI spoke too soon...</td>\n",
       "      <td>Wed Jan 13 01:02:45 +0000 2021</td>\n",
       "      <td>P</td>\n",
       "      <td>Sail To The Moon</td>\n",
       "      <td>4353e884c1</td>\n",
       "      <td>SPOTIFY</td>\n",
       "      <td>anxiety</td>\n",
       "      <td>0.371</td>\n",
       "      <td>0.295</td>\n",
       "      <td>9</td>\n",
       "      <td>-10.952</td>\n",
       "      <td>0</td>\n",
       "      <td>0.0315</td>\n",
       "      <td>111.914</td>\n",
       "    </tr>\n",
       "    <tr>\n",
       "      <th>4</th>\n",
       "      <td>5</td>\n",
       "      <td>5.0</td>\n",
       "      <td>Peace</td>\n",
       "      <td>[Verse 1]\\nIf you call it lonely to be so alon...</td>\n",
       "      <td>Wed Jan 13 01:02:45 +0000 2021</td>\n",
       "      <td>P</td>\n",
       "      <td>Under the Moon</td>\n",
       "      <td>4353e884c1</td>\n",
       "      <td>SPOTIFY</td>\n",
       "      <td>anxiety</td>\n",
       "      <td>0.596</td>\n",
       "      <td>0.544</td>\n",
       "      <td>9</td>\n",
       "      <td>-9.389</td>\n",
       "      <td>1</td>\n",
       "      <td>0.0255</td>\n",
       "      <td>82.988</td>\n",
       "    </tr>\n",
       "  </tbody>\n",
       "</table>\n",
       "</div>"
      ],
      "text/plain": [
       "   Unnamed: 0  ...1               artist  \\\n",
       "0           1   0.0  Echo & the Bunnymen   \n",
       "1           2   1.0       Paul McCartney   \n",
       "2           3   2.0         Turin Brakes   \n",
       "3           4   4.0            Radiohead   \n",
       "4           5   5.0                Peace   \n",
       "\n",
       "                                               lyric  \\\n",
       "0  [Verse 1]\\nUnder blue moon I saw you\\nSo soon ...   \n",
       "1                                                NaN   \n",
       "2  Oooh, oooh, oooh (x2)\\nSometimes just letting ...   \n",
       "3  [Verse 1]\\nI sucked the moon\\nI spoke too soon...   \n",
       "4  [Verse 1]\\nIf you call it lonely to be so alon...   \n",
       "\n",
       "                       created_at type  \\\n",
       "0  Wed Jan 13 01:02:45 +0000 2021    P   \n",
       "1  Wed Jan 13 01:02:45 +0000 2021    P   \n",
       "2  Wed Jan 13 01:02:45 +0000 2021    P   \n",
       "3  Wed Jan 13 01:02:45 +0000 2021    P   \n",
       "4  Wed Jan 13 01:02:45 +0000 2021    P   \n",
       "\n",
       "                                      title     user_id      src disorder  \\\n",
       "0                          The Killing Moon  4353e884c1  SPOTIFY  anxiety   \n",
       "1  Monkberry Moon Delight - Remastered 2012  4353e884c1  SPOTIFY  anxiety   \n",
       "2                                  Red Moon  4353e884c1  SPOTIFY  anxiety   \n",
       "3                          Sail To The Moon  4353e884c1  SPOTIFY  anxiety   \n",
       "4                            Under the Moon  4353e884c1  SPOTIFY  anxiety   \n",
       "\n",
       "   danceability  energy  key  loudness  mode  speechiness    tempo  \n",
       "0         0.568   0.829    7    -7.066     1       0.0303  124.201  \n",
       "1         0.567   0.714    0    -8.036     0       0.0245   97.417  \n",
       "2         0.307   0.918   11    -5.806     0       0.0782  161.955  \n",
       "3         0.371   0.295    9   -10.952     0       0.0315  111.914  \n",
       "4         0.596   0.544    9    -9.389     1       0.0255   82.988  "
      ]
     },
     "execution_count": 2,
     "metadata": {},
     "output_type": "execute_result"
    }
   ],
   "source": [
    "#Lectura del archivo y confirmación de contenido\n",
    "\n",
    "tabla=pd.read_csv('combined_features_disorder.csv',sep=',',encoding='utf-8')\n",
    "tabla.head(5)"
   ]
  },
  {
   "cell_type": "markdown",
   "metadata": {},
   "source": [
    "## Punto 3\n",
    " Describir las variables potencialmente interesantes en cada archivo teniendo en cuenta el contexto comercial y analítico involucrado"
   ]
  },
  {
   "cell_type": "code",
   "execution_count": 3,
   "metadata": {},
   "outputs": [
    {
     "data": {
      "text/plain": [
       "Index(['Unnamed: 0', '...1', 'artist', 'lyric', 'created_at', 'type', 'title',\n",
       "       'user_id', 'src', 'disorder', 'danceability', 'energy', 'key',\n",
       "       'loudness', 'mode', 'speechiness', 'tempo'],\n",
       "      dtype='object')"
      ]
     },
     "execution_count": 3,
     "metadata": {},
     "output_type": "execute_result"
    }
   ],
   "source": [
    "#Lista de columnas\n",
    "tabla.columns"
   ]
  },
  {
   "cell_type": "markdown",
   "metadata": {},
   "source": [
    "### Análisis superficial.\n",
    "Se considera que las siguientes columnas son potencialmente interesantes para el manejo y análisis de datos del dataset escogido:   \n",
    "- **title - artist** Datos identitarios de la canción del registro.  \n",
    "- **user_id** Dato identitario del usuario del registro.  \n",
    "- **src** Nombre de la fuente.  \n",
    "- **disorder** Problema mental asociado al usuario.  \n",
    "- **danceability - energy - loudness - speechiness - tempo** características específicas de la canción del registro. Permiten hacer análisis por cada característica que relacione intervalos de cada atributo con el problema mental del registro.  \n",
    "\n",
    "  \n"
   ]
  },
  {
   "cell_type": "markdown",
   "metadata": {},
   "source": []
  }
 ],
 "metadata": {
  "kernelspec": {
   "display_name": "Python 3",
   "language": "python",
   "name": "python3"
  },
  "language_info": {
   "codemirror_mode": {
    "name": "ipython",
    "version": 3
   },
   "file_extension": ".py",
   "mimetype": "text/x-python",
   "name": "python",
   "nbconvert_exporter": "python",
   "pygments_lexer": "ipython3",
   "version": "3.12.4"
  }
 },
 "nbformat": 4,
 "nbformat_minor": 2
}
