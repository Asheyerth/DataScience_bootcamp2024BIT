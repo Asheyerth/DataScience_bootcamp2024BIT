{
 "cells": [
  {
   "cell_type": "markdown",
   "metadata": {},
   "source": [
    "# Estructurando proyecto DS\n",
    "## Actividad 3 y Actividad 4  \n",
    "### Actividad 3\n",
    "    1. Generar preguntas de interés o hipótesis de interés sobre el dataset elegido para el proyecto final.\n",
    "    2. Crear visualizaciones (univariados, bivariados o trivariados) junto con resúmenes numéricos básicos acordes con los tipos de variables disponibles.\n",
    "    3. Interpretar los resultados obtenidos\n",
    "### Actividad 4\n",
    "    1. Abstracto con motivación y audiencia\n",
    "    2. Preguntas/Hipótesis que queremos resolver mediante el análisis de datos\n",
    "    3. Análisis Exploratorio de Datos (EDA)\n",
    "    4. Con base en las visualizaciones y resúmenes numéricos generados del desafío anterior dar recomendaciones basados en los insights observados.\n",
    "    5. Para esta oportunidad se deberán tener avances en los apartados: Definición de objetivo, Contexto comercial, Problema Comercial, Contexto analítico, Exploración de datos (EDA)"
   ]
  },
  {
   "cell_type": "markdown",
   "metadata": {},
   "source": [
    "# Desarrollo"
   ]
  },
  {
   "cell_type": "markdown",
   "metadata": {},
   "source": [
    "## Definición de Objetivo \n",
    "El análisis exploratorio de datos es necesario para cualquier proceso de análisis de datos a la hora de leer e interpretar la información entregada. Resulta imperativo no solo saber distribuir los datos, sino interpretarlos creando relaciones entre sí que a simple vista no es posible visualizar, esto expande la información que puede ser extraída y permite un campo de trabajo con los datos más extenso del esperado. Se va a presentar un caso de caracter práctica con el fin de demostrar el alcance de una adecuada exploración de datos para tomar las mejores decisiones de acuerdo a un banco de datos en bruto. Se explorará un caso imaginario basado en datos reales suministrados por internet y usando tecnologías asociadas a la estadística en el entorno de trabajo ofrecido por Python."
   ]
  },
  {
   "cell_type": "markdown",
   "metadata": {},
   "source": [
    "## Contexto Comercial\n",
    "Usted se encuentra trabajando en el departamento de marketing, en el equipo de analistas, de una empresa que ofrece como actividad comercial principal una plataforma para la visualización de anime. Debido a una disminución de tráfico en la plataforma, los directivos han decidido contratar especialistas para solventar esta crisis. Recientemente, el departamento de diseño ha decidido hacer una reconstrucción visual completa para atraer a las nuevas generaciones y el nuevo jefe del departamento le ha pedido al departamento de marketing un análisis detallado del contenido de la plataforma y su relación con el usuario final. \n",
    "El jefe solicitó la viabilidad a partir del puntaje de cada anime lo siguiente: \n",
    "- Colocar en la primera linea una exposición por género, productor y estudio. \n",
    "- Colocar en la segunda linea lo más atrayente para el usuario final basado en duración, fuente, tipo y compromiso para llegar al final."
   ]
  },
  {
   "cell_type": "markdown",
   "metadata": {},
   "source": [
    "## Problema Comercial\n",
    "Su tarea principal es explorar los datos, identificar la mejor relación entre el score final y las variables de género, productor, estudio, duración, fuente, tipo y compromiso para llegar al final, para luego presentar la mejor propuesta para la exposición de dichas categorías en la primera y segunda linea de la plataforma."
   ]
  },
  {
   "cell_type": "markdown",
   "metadata": {},
   "source": [
    "## Contexto Analítico \n",
    "Usando un conjunto de datos relativamente reciente, te dispones a iniciar el proceso de análisis. Debido a que recibiste ordenes directas del jefe de departamento, te encuentras limitado a solo lo que solicitó. Tu jefe directo te pide que seas lo más profesional posible y hagas un análisis serio, lo que te da cierta libertad. \n",
    "\n",
    "El conjunto de datos a trabajar contiene datos estructurados muy generales. Te dispones a realizarlo de la siguiente manera:\n",
    "Para la primera linea. \n",
    "Se va a sacar el promedio de puntaje por variable categórica. Se va a tomar el score del anime y se va a aplicar como valor para cada variable categórica que contenga dicho ánime. Una vez hecho esto, sacar el promedio del score de dicha variable categórica con los valores asociados a los animes registrados. La variable que contenga mayor score será la escogida. \n",
    "Esto se va a realizar de la misma forma para género (genre), productores (producers) y estudios (studios). Se escogerá el que mayor score contenga. \n",
    "Para la segunda linea. \n",
    "Para interpretar correctamente la relación de duración, se va a evaluar la relación que existe entre:\n",
    "- score y la duración\n",
    "- score y el número de episodios\n",
    "- duración y número de episodios\n",
    "Para interpretar correctamente la relación de compromiso para finalizar, se va a evaluar la relación que existe entre: \n",
    "- duración vs on-hold (1)\n",
    "- duración vs dropped (2) \n",
    "- cantidad de episodios vs on-hold (3)\n",
    "- cantidad de episodios vs dropped (4)\n",
    "- (1) vs (3) <- Esto se puede volver multivariado para evitar gráficas. Boxplot(Ashley)\n",
    "- (2) vs (4) <- Esto se puede volver multivariado para evitar gráficas. Boxplot(Ashley)\n",
    "- duración vs completed\n",
    "- cantidad de episodios vs completed\n",
    "- (5) vs (6) <- Esto se puede volver multivariado para evitar gráficas. Boxplot(Ashley)\n",
    "(Quitable)\n",
    "Para interpretar correctamente la relación de fuente se va a evaluar la relación que existe entre fuente vs score\n",
    "Para interpretar correctamente la relación de tipose va a evaluar la relación que existe entre tipo vs score"
   ]
  }
 ],
 "metadata": {
  "language_info": {
   "name": "python"
  }
 },
 "nbformat": 4,
 "nbformat_minor": 2
}
