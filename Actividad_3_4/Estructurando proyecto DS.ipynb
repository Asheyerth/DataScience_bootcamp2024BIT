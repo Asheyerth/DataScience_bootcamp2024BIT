{
 "cells": [
  {
   "cell_type": "markdown",
   "metadata": {},
   "source": [
    "# Estructurando proyecto DS\n",
    "## Actividad 3 y Actividad 4  \n",
    "### Actividad 3\n",
    "    1. Generar preguntas de interés o hipótesis de interés sobre el dataset elegido para el proyecto final.\n",
    "    2. Crear visualizaciones (univariados, bivariados o trivariados) junto con resúmenes numéricos básicos acordes con los tipos de variables disponibles.\n",
    "    3. Interpretar los resultados obtenidos\n",
    "### Actividad 4\n",
    "    1. Abstracto con motivación y audiencia\n",
    "    2. Preguntas/Hipótesis que queremos resolver mediante el análisis de datos\n",
    "    3. Análisis Exploratorio de Datos (EDA)\n",
    "    4. Con base en las visualizaciones y resúmenes numéricos generados del desafío anterior dar recomendaciones basados en los insights observados.\n",
    "    5. Para esta oportunidad se deberán tener avances en los apartados: Definición de objetivo, Contexto comercial, Problema Comercial, Contexto analítico, Exploración de datos (EDA)"
   ]
  },
  {
   "cell_type": "markdown",
   "metadata": {},
   "source": [
    "# Desarrollo"
   ]
  },
  {
   "cell_type": "markdown",
   "metadata": {},
   "source": [
    "## Definición de Objetivo \n",
    "El análisis exploratorio de datos es necesario para cualquier proceso de análisis de datos a la hora de leer e interpretar la información entregada. Resulta imperativo no solo saber distribuir los datos, sino interpretarlos creando relaciones entre sí que a simple vista no es posible visualizar, esto expande la información que puede ser extraída y permite un campo de trabajo con los datos más extenso del esperado. Se va a presentar un caso de caracter práctica con el fin de demostrar el alcance de una adecuada exploración de datos para tomar las mejores decisiones de acuerdo a un banco de datos en bruto. Se explorará un caso imaginario basado en datos reales suministrados por internet y usando tecnologías asociadas a la estadística en el entorno de trabajo ofrecido por Python."
   ]
  },
  {
   "cell_type": "markdown",
   "metadata": {},
   "source": [
    "## Contexto Comercial\n",
    "Usted se encuentra trabajando en el departamento de marketing, en el equipo de analistas, de una empresa que ofrece como actividad comercial principal una plataforma para la visualización de anime. Debido a una disminución de tráfico en la plataforma, los directivos han decidido contratar especialistas para solventar esta crisis. Recientemente, el departamento de diseño ha decidido hacer una reconstrucción visual completa para atraer a las nuevas generaciones y el nuevo jefe del departamento le ha pedido al departamento de marketing un análisis detallado del contenido de la plataforma y su relación con el usuario final. \n",
    "El jefe solicitó la viabilidad a partir del puntaje de cada anime lo siguiente: \n",
    "- Colocar en la primera linea una exposición por género, productor y estudio. \n",
    "- Colocar en la segunda linea lo más atrayente para el usuario final basado en duración, fuente, tipo y compromiso para llegar al final."
   ]
  },
  {
   "cell_type": "markdown",
   "metadata": {},
   "source": [
    "## Problema Comercial\n",
    "Su tarea principal es explorar los datos, identificar la mejor relación entre el score final y las variables de género, productor, estudio, duración, fuente, tipo y compromiso para llegar al final, para luego presentar la mejor propuesta para la exposición de dichas categorías en la primera y segunda linea de la plataforma."
   ]
  },
  {
   "cell_type": "markdown",
   "metadata": {},
   "source": [
    "## Contexto Analítico \n",
    "Usando un conjunto de datos relativamente reciente, te dispones a iniciar el proceso de análisis. Debido a que recibiste ordenes directas del jefe de departamento, te encuentras limitado a solo lo que solicitó. Tu jefe directo te pide que seas lo más profesional posible y hagas un análisis serio, lo que te da cierta libertad. \n",
    "\n",
    "El conjunto de datos a trabajar contiene datos estructurados muy generales. Te dispones a realizarlo de la siguiente manera:  \n",
    "  \n",
    "Para la primera linea.  \n",
    "Se va a sacar el promedio de puntaje por variable categórica. Se va a tomar el score del anime y se va a aplicar como valor para cada variable categórica que contenga dicho ánime. Una vez hecho esto, se va a analizar el comportamiento que tiene el puntaje en relación a la variable categórica asociada.   \n",
    "Esto se va a realizar de la misma forma para género (genre), productores (producers) y estudios (studios).  \n",
    "  \n",
    "Para la segunda linea.  \n",
    "Para interpretar correctamente la relación de duración, se va a evaluar la relación que existe entre:  \n",
    "- score y la duración  \n",
    "- score y el número de episodios  \n",
    "- duración y número de episodios  \n",
    "Para interpretar correctamente la relación de compromiso para finalizar, se va a evaluar la relación que existe entre:   \n",
    "- duración vs on-hold (1)  \n",
    "- duración vs dropped (2)   \n",
    "- cantidad de episodios vs on-hold (3)  \n",
    "- cantidad de episodios vs dropped (4)  \n",
    "- (1) vs (3) <- Esto se puede volver multivariado para evitar gráficas. Boxplot(Ashley)  \n",
    "- (2) vs (4) <- Esto se puede volver multivariado para evitar gráficas. Boxplot(Ashley)  \n",
    "- duración vs completed  \n",
    "- cantidad de episodios vs completed  \n",
    "- (5) vs (6) <- Esto se puede volver multivariado para evitar gráficas. Boxplot(Ashley)  \n",
    "(Quitable)  \n",
    "Para interpretar correctamente la relación de fuente se va a evaluar la relación que existe entre fuente vs score  \n",
    "Para interpretar correctamente la relación de tipose va a evaluar la relación que existe entre tipo vs score"
   ]
  },
  {
   "cell_type": "markdown",
   "metadata": {},
   "source": [
    "## Exploración de Datos"
   ]
  },
  {
   "cell_type": "code",
   "execution_count": 19,
   "metadata": {},
   "outputs": [
    {
     "data": {
      "text/html": [
       "<div>\n",
       "<style scoped>\n",
       "    .dataframe tbody tr th:only-of-type {\n",
       "        vertical-align: middle;\n",
       "    }\n",
       "\n",
       "    .dataframe tbody tr th {\n",
       "        vertical-align: top;\n",
       "    }\n",
       "\n",
       "    .dataframe thead th {\n",
       "        text-align: right;\n",
       "    }\n",
       "</style>\n",
       "<table border=\"1\" class=\"dataframe\">\n",
       "  <thead>\n",
       "    <tr style=\"text-align: right;\">\n",
       "      <th></th>\n",
       "      <th>MAL_ID</th>\n",
       "      <th>Name</th>\n",
       "      <th>Score</th>\n",
       "      <th>Genres</th>\n",
       "      <th>English name</th>\n",
       "      <th>Japanese name</th>\n",
       "      <th>Type</th>\n",
       "      <th>Episodes</th>\n",
       "      <th>Aired</th>\n",
       "      <th>Premiered</th>\n",
       "      <th>...</th>\n",
       "      <th>Score-10</th>\n",
       "      <th>Score-9</th>\n",
       "      <th>Score-8</th>\n",
       "      <th>Score-7</th>\n",
       "      <th>Score-6</th>\n",
       "      <th>Score-5</th>\n",
       "      <th>Score-4</th>\n",
       "      <th>Score-3</th>\n",
       "      <th>Score-2</th>\n",
       "      <th>Score-1</th>\n",
       "    </tr>\n",
       "  </thead>\n",
       "  <tbody>\n",
       "    <tr>\n",
       "      <th>0</th>\n",
       "      <td>1</td>\n",
       "      <td>Cowboy Bebop</td>\n",
       "      <td>8.78</td>\n",
       "      <td>Action, Adventure, Comedy, Drama, Sci-Fi, Space</td>\n",
       "      <td>Cowboy Bebop</td>\n",
       "      <td>カウボーイビバップ</td>\n",
       "      <td>TV</td>\n",
       "      <td>26</td>\n",
       "      <td>Apr 3, 1998 to Apr 24, 1999</td>\n",
       "      <td>Spring 1998</td>\n",
       "      <td>...</td>\n",
       "      <td>229170.0</td>\n",
       "      <td>182126.0</td>\n",
       "      <td>131625.0</td>\n",
       "      <td>62330.0</td>\n",
       "      <td>20688.0</td>\n",
       "      <td>8904.0</td>\n",
       "      <td>3184.0</td>\n",
       "      <td>1357.0</td>\n",
       "      <td>741.0</td>\n",
       "      <td>1580.0</td>\n",
       "    </tr>\n",
       "    <tr>\n",
       "      <th>1</th>\n",
       "      <td>5</td>\n",
       "      <td>Cowboy Bebop: Tengoku no Tobira</td>\n",
       "      <td>8.39</td>\n",
       "      <td>Action, Drama, Mystery, Sci-Fi, Space</td>\n",
       "      <td>Cowboy Bebop:The Movie</td>\n",
       "      <td>カウボーイビバップ 天国の扉</td>\n",
       "      <td>Movie</td>\n",
       "      <td>1</td>\n",
       "      <td>Sep 1, 2001</td>\n",
       "      <td>Unknown</td>\n",
       "      <td>...</td>\n",
       "      <td>30043.0</td>\n",
       "      <td>49201.0</td>\n",
       "      <td>49505.0</td>\n",
       "      <td>22632.0</td>\n",
       "      <td>5805.0</td>\n",
       "      <td>1877.0</td>\n",
       "      <td>577.0</td>\n",
       "      <td>221.0</td>\n",
       "      <td>109.0</td>\n",
       "      <td>379.0</td>\n",
       "    </tr>\n",
       "    <tr>\n",
       "      <th>2</th>\n",
       "      <td>6</td>\n",
       "      <td>Trigun</td>\n",
       "      <td>8.24</td>\n",
       "      <td>Action, Sci-Fi, Adventure, Comedy, Drama, Shounen</td>\n",
       "      <td>Trigun</td>\n",
       "      <td>トライガン</td>\n",
       "      <td>TV</td>\n",
       "      <td>26</td>\n",
       "      <td>Apr 1, 1998 to Sep 30, 1998</td>\n",
       "      <td>Spring 1998</td>\n",
       "      <td>...</td>\n",
       "      <td>50229.0</td>\n",
       "      <td>75651.0</td>\n",
       "      <td>86142.0</td>\n",
       "      <td>49432.0</td>\n",
       "      <td>15376.0</td>\n",
       "      <td>5838.0</td>\n",
       "      <td>1965.0</td>\n",
       "      <td>664.0</td>\n",
       "      <td>316.0</td>\n",
       "      <td>533.0</td>\n",
       "    </tr>\n",
       "    <tr>\n",
       "      <th>3</th>\n",
       "      <td>7</td>\n",
       "      <td>Witch Hunter Robin</td>\n",
       "      <td>7.27</td>\n",
       "      <td>Action, Mystery, Police, Supernatural, Drama, ...</td>\n",
       "      <td>Witch Hunter Robin</td>\n",
       "      <td>Witch Hunter ROBIN (ウイッチハンターロビン)</td>\n",
       "      <td>TV</td>\n",
       "      <td>26</td>\n",
       "      <td>Jul 2, 2002 to Dec 24, 2002</td>\n",
       "      <td>Summer 2002</td>\n",
       "      <td>...</td>\n",
       "      <td>2182.0</td>\n",
       "      <td>4806.0</td>\n",
       "      <td>10128.0</td>\n",
       "      <td>11618.0</td>\n",
       "      <td>5709.0</td>\n",
       "      <td>2920.0</td>\n",
       "      <td>1083.0</td>\n",
       "      <td>353.0</td>\n",
       "      <td>164.0</td>\n",
       "      <td>131.0</td>\n",
       "    </tr>\n",
       "    <tr>\n",
       "      <th>4</th>\n",
       "      <td>8</td>\n",
       "      <td>Bouken Ou Beet</td>\n",
       "      <td>6.98</td>\n",
       "      <td>Adventure, Fantasy, Shounen, Supernatural</td>\n",
       "      <td>Beet the Vandel Buster</td>\n",
       "      <td>冒険王ビィト</td>\n",
       "      <td>TV</td>\n",
       "      <td>52</td>\n",
       "      <td>Sep 30, 2004 to Sep 29, 2005</td>\n",
       "      <td>Fall 2004</td>\n",
       "      <td>...</td>\n",
       "      <td>312.0</td>\n",
       "      <td>529.0</td>\n",
       "      <td>1242.0</td>\n",
       "      <td>1713.0</td>\n",
       "      <td>1068.0</td>\n",
       "      <td>634.0</td>\n",
       "      <td>265.0</td>\n",
       "      <td>83.0</td>\n",
       "      <td>50.0</td>\n",
       "      <td>27.0</td>\n",
       "    </tr>\n",
       "  </tbody>\n",
       "</table>\n",
       "<p>5 rows × 35 columns</p>\n",
       "</div>"
      ],
      "text/plain": [
       "   MAL_ID                             Name Score  \\\n",
       "0       1                     Cowboy Bebop  8.78   \n",
       "1       5  Cowboy Bebop: Tengoku no Tobira  8.39   \n",
       "2       6                           Trigun  8.24   \n",
       "3       7               Witch Hunter Robin  7.27   \n",
       "4       8                   Bouken Ou Beet  6.98   \n",
       "\n",
       "                                              Genres            English name  \\\n",
       "0    Action, Adventure, Comedy, Drama, Sci-Fi, Space            Cowboy Bebop   \n",
       "1              Action, Drama, Mystery, Sci-Fi, Space  Cowboy Bebop:The Movie   \n",
       "2  Action, Sci-Fi, Adventure, Comedy, Drama, Shounen                  Trigun   \n",
       "3  Action, Mystery, Police, Supernatural, Drama, ...      Witch Hunter Robin   \n",
       "4          Adventure, Fantasy, Shounen, Supernatural  Beet the Vandel Buster   \n",
       "\n",
       "                      Japanese name   Type Episodes  \\\n",
       "0                         カウボーイビバップ     TV       26   \n",
       "1                    カウボーイビバップ 天国の扉  Movie        1   \n",
       "2                             トライガン     TV       26   \n",
       "3  Witch Hunter ROBIN (ウイッチハンターロビン)     TV       26   \n",
       "4                            冒険王ビィト     TV       52   \n",
       "\n",
       "                          Aired    Premiered  ...  Score-10   Score-9  \\\n",
       "0   Apr 3, 1998 to Apr 24, 1999  Spring 1998  ...  229170.0  182126.0   \n",
       "1                   Sep 1, 2001      Unknown  ...   30043.0   49201.0   \n",
       "2   Apr 1, 1998 to Sep 30, 1998  Spring 1998  ...   50229.0   75651.0   \n",
       "3   Jul 2, 2002 to Dec 24, 2002  Summer 2002  ...    2182.0    4806.0   \n",
       "4  Sep 30, 2004 to Sep 29, 2005    Fall 2004  ...     312.0     529.0   \n",
       "\n",
       "    Score-8  Score-7  Score-6 Score-5 Score-4  Score-3  Score-2  Score-1  \n",
       "0  131625.0  62330.0  20688.0  8904.0  3184.0   1357.0    741.0   1580.0  \n",
       "1   49505.0  22632.0   5805.0  1877.0   577.0    221.0    109.0    379.0  \n",
       "2   86142.0  49432.0  15376.0  5838.0  1965.0    664.0    316.0    533.0  \n",
       "3   10128.0  11618.0   5709.0  2920.0  1083.0    353.0    164.0    131.0  \n",
       "4    1242.0   1713.0   1068.0   634.0   265.0     83.0     50.0     27.0  \n",
       "\n",
       "[5 rows x 35 columns]"
      ]
     },
     "execution_count": 19,
     "metadata": {},
     "output_type": "execute_result"
    }
   ],
   "source": [
    "#Inicialización\n",
    "import os\n",
    "import pandas as pd\n",
    "import matplotlib as m\n",
    "import matplotlib.pyplot as plt\n",
    "import seaborn as sns\n",
    "import plotly as pl\n",
    "\n",
    "#Lectura del archivo y confirmación de contenido\n",
    "\n",
    "tabla=pd.read_csv('anime.csv',sep=',',encoding='utf-8')\n",
    "tabla.head(5)"
   ]
  },
  {
   "cell_type": "markdown",
   "metadata": {},
   "source": [
    "### Primera linea"
   ]
  },
  {
   "cell_type": "markdown",
   "metadata": {},
   "source": [
    "Proceso a seguir:\n",
    "- Tomar el score del anime y se va a aplicar como valor para cada variable categórica que contenga dicho ánime.  \n",
    "- Analizar el comportamiento de la calificación según la variable categórica específica.   \n",
    "\n",
    "Esto se va a realizar de la misma forma para género (genre), productores (producers) y estudios (studios). Se escogerá el que mayor score contenga."
   ]
  },
  {
   "cell_type": "code",
   "execution_count": 2,
   "metadata": {},
   "outputs": [
    {
     "data": {
      "text/html": [
       "<div>\n",
       "<style scoped>\n",
       "    .dataframe tbody tr th:only-of-type {\n",
       "        vertical-align: middle;\n",
       "    }\n",
       "\n",
       "    .dataframe tbody tr th {\n",
       "        vertical-align: top;\n",
       "    }\n",
       "\n",
       "    .dataframe thead th {\n",
       "        text-align: right;\n",
       "    }\n",
       "</style>\n",
       "<table border=\"1\" class=\"dataframe\">\n",
       "  <thead>\n",
       "    <tr style=\"text-align: right;\">\n",
       "      <th></th>\n",
       "      <th>Score</th>\n",
       "      <th>Genres</th>\n",
       "      <th>Producers</th>\n",
       "      <th>Studios</th>\n",
       "    </tr>\n",
       "  </thead>\n",
       "  <tbody>\n",
       "    <tr>\n",
       "      <th>0</th>\n",
       "      <td>8.78</td>\n",
       "      <td>Action, Adventure, Comedy, Drama, Sci-Fi, Space</td>\n",
       "      <td>Bandai Visual</td>\n",
       "      <td>Sunrise</td>\n",
       "    </tr>\n",
       "    <tr>\n",
       "      <th>1</th>\n",
       "      <td>8.39</td>\n",
       "      <td>Action, Drama, Mystery, Sci-Fi, Space</td>\n",
       "      <td>Sunrise, Bandai Visual</td>\n",
       "      <td>Bones</td>\n",
       "    </tr>\n",
       "    <tr>\n",
       "      <th>2</th>\n",
       "      <td>8.24</td>\n",
       "      <td>Action, Sci-Fi, Adventure, Comedy, Drama, Shounen</td>\n",
       "      <td>Victor Entertainment</td>\n",
       "      <td>Madhouse</td>\n",
       "    </tr>\n",
       "    <tr>\n",
       "      <th>3</th>\n",
       "      <td>7.27</td>\n",
       "      <td>Action, Mystery, Police, Supernatural, Drama, ...</td>\n",
       "      <td>TV Tokyo, Bandai Visual, Dentsu, Victor Entert...</td>\n",
       "      <td>Sunrise</td>\n",
       "    </tr>\n",
       "    <tr>\n",
       "      <th>4</th>\n",
       "      <td>6.98</td>\n",
       "      <td>Adventure, Fantasy, Shounen, Supernatural</td>\n",
       "      <td>TV Tokyo, Dentsu</td>\n",
       "      <td>Toei Animation</td>\n",
       "    </tr>\n",
       "    <tr>\n",
       "      <th>...</th>\n",
       "      <td>...</td>\n",
       "      <td>...</td>\n",
       "      <td>...</td>\n",
       "      <td>...</td>\n",
       "    </tr>\n",
       "    <tr>\n",
       "      <th>17557</th>\n",
       "      <td>Unknown</td>\n",
       "      <td>Adventure, Mystery, Supernatural</td>\n",
       "      <td>Unknown</td>\n",
       "      <td>Unknown</td>\n",
       "    </tr>\n",
       "    <tr>\n",
       "      <th>17558</th>\n",
       "      <td>Unknown</td>\n",
       "      <td>Comedy, Horror, Supernatural</td>\n",
       "      <td>Kadokawa</td>\n",
       "      <td>Passione</td>\n",
       "    </tr>\n",
       "    <tr>\n",
       "      <th>17559</th>\n",
       "      <td>Unknown</td>\n",
       "      <td>Mystery, Dementia, Horror, Psychological, Supe...</td>\n",
       "      <td>Unknown</td>\n",
       "      <td>Unknown</td>\n",
       "    </tr>\n",
       "    <tr>\n",
       "      <th>17560</th>\n",
       "      <td>Unknown</td>\n",
       "      <td>Adventure, Slice of Life, Comedy</td>\n",
       "      <td>Kadokawa</td>\n",
       "      <td>8bit</td>\n",
       "    </tr>\n",
       "    <tr>\n",
       "      <th>17561</th>\n",
       "      <td>Unknown</td>\n",
       "      <td>Action, Fantasy</td>\n",
       "      <td>Bandai Namco Arts</td>\n",
       "      <td>Sunrise</td>\n",
       "    </tr>\n",
       "  </tbody>\n",
       "</table>\n",
       "<p>17562 rows × 4 columns</p>\n",
       "</div>"
      ],
      "text/plain": [
       "         Score                                             Genres  \\\n",
       "0         8.78    Action, Adventure, Comedy, Drama, Sci-Fi, Space   \n",
       "1         8.39              Action, Drama, Mystery, Sci-Fi, Space   \n",
       "2         8.24  Action, Sci-Fi, Adventure, Comedy, Drama, Shounen   \n",
       "3         7.27  Action, Mystery, Police, Supernatural, Drama, ...   \n",
       "4         6.98          Adventure, Fantasy, Shounen, Supernatural   \n",
       "...        ...                                                ...   \n",
       "17557  Unknown                   Adventure, Mystery, Supernatural   \n",
       "17558  Unknown                       Comedy, Horror, Supernatural   \n",
       "17559  Unknown  Mystery, Dementia, Horror, Psychological, Supe...   \n",
       "17560  Unknown                   Adventure, Slice of Life, Comedy   \n",
       "17561  Unknown                                    Action, Fantasy   \n",
       "\n",
       "                                               Producers         Studios  \n",
       "0                                          Bandai Visual         Sunrise  \n",
       "1                                 Sunrise, Bandai Visual           Bones  \n",
       "2                                   Victor Entertainment        Madhouse  \n",
       "3      TV Tokyo, Bandai Visual, Dentsu, Victor Entert...         Sunrise  \n",
       "4                                       TV Tokyo, Dentsu  Toei Animation  \n",
       "...                                                  ...             ...  \n",
       "17557                                            Unknown         Unknown  \n",
       "17558                                           Kadokawa        Passione  \n",
       "17559                                            Unknown         Unknown  \n",
       "17560                                           Kadokawa            8bit  \n",
       "17561                                  Bandai Namco Arts         Sunrise  \n",
       "\n",
       "[17562 rows x 4 columns]"
      ]
     },
     "execution_count": 2,
     "metadata": {},
     "output_type": "execute_result"
    }
   ],
   "source": [
    "#Extrayendo las columnas que nos interesan\n",
    "tablaPrimeraLinea = tabla[['Score','Genres','Producers','Studios']].copy()\n",
    "tablaPrimeraLinea"
   ]
  },
  {
   "cell_type": "code",
   "execution_count": 54,
   "metadata": {},
   "outputs": [
    {
     "name": "stderr",
     "output_type": "stream",
     "text": [
      "C:\\Users\\geral\\AppData\\Local\\Temp\\ipykernel_8344\\3430473936.py:23: FutureWarning: The behavior of DataFrame concatenation with empty or all-NA entries is deprecated. In a future version, this will no longer exclude empty or all-NA columns when determining the result dtypes. To retain the old behavior, exclude the relevant entries before the concat operation.\n",
      "  producerdf = pd.concat([producerdf, pd.DataFrame([{'Producer' : prod , 'Score' : float(scoreI)}])], ignore_index=True)\n",
      "C:\\Users\\geral\\AppData\\Local\\Temp\\ipykernel_8344\\3430473936.py:32: FutureWarning: The behavior of DataFrame concatenation with empty or all-NA entries is deprecated. In a future version, this will no longer exclude empty or all-NA columns when determining the result dtypes. To retain the old behavior, exclude the relevant entries before the concat operation.\n",
      "  genredf = pd.concat([genredf, pd.DataFrame([{'Genre' : gen , 'Score' : float(scoreI)}])], ignore_index=True)\n",
      "C:\\Users\\geral\\AppData\\Local\\Temp\\ipykernel_8344\\3430473936.py:41: FutureWarning: The behavior of DataFrame concatenation with empty or all-NA entries is deprecated. In a future version, this will no longer exclude empty or all-NA columns when determining the result dtypes. To retain the old behavior, exclude the relevant entries before the concat operation.\n",
      "  studiodf = pd.concat([studiodf, pd.DataFrame([{'Studio' : stu , 'Score' : float(scoreI)}])], ignore_index=True)\n"
     ]
    }
   ],
   "source": [
    "#Limpieza de datos\n",
    "#Se trabajará con dataframe para almacenar los datos de interés para las tres categorías\n",
    "genredf = pd.DataFrame(columns=['Genre', 'Score'])\n",
    "producerdf = pd.DataFrame(columns=['Producer', 'Score'])\n",
    "studiodf = pd.DataFrame(columns=['Studio', 'Score'])\n",
    "\n",
    "#Para cada uno de los registros\n",
    "for i in range(len(tablaPrimeraLinea)):\n",
    "#for i in range(10):\n",
    "    #Temporales para mejor compresion\n",
    "    studioI=tablaPrimeraLinea['Studios'][i] #Estudios del registro\n",
    "    generoI=tablaPrimeraLinea['Genres'][i] #Generos del registro\n",
    "    productorI = tablaPrimeraLinea['Producers'][i] #Productores del registro\n",
    "    scoreI=tablaPrimeraLinea['Score'][i] #Score del registro\n",
    "    \n",
    "    #Productores\n",
    "    #Deconstruimos si es necesario entre los que se encuentren\n",
    "    prodTemp = productorI.split(\",\")\n",
    "    for j in range(len(prodTemp)): prodTemp[j]=prodTemp[j].strip() #Se eliminan vacios\n",
    "\n",
    "    for prod in prodTemp: #Por cada productor del registro\n",
    "        if scoreI != 'Unknown' and prod != 'Unknown': #Si hay desconocidos o vacios, los descartamos porque no podemos trabajar con esa información. \n",
    "            producerdf = pd.concat([producerdf, pd.DataFrame([{'Producer' : prod , 'Score' : float(scoreI)}])], ignore_index=True)\n",
    "\n",
    "    #Genero\n",
    "    #Deconstruimos si es necesario entre los que se encuentren\n",
    "    genTemp = generoI.split(\",\")\n",
    "    for j in range(len(genTemp)): genTemp[j]=genTemp[j].strip() #Se eliminan vacios\n",
    "\n",
    "    for gen in genTemp: #Por cada productor del registro\n",
    "        if scoreI != 'Unknown' and gen != 'Unknown': #Si hay desconocidos o vacios, los descartamos porque no podemos trabajar con esa información. \n",
    "            genredf = pd.concat([genredf, pd.DataFrame([{'Genre' : gen , 'Score' : float(scoreI)}])], ignore_index=True)\n",
    "\n",
    "    #Estudios\n",
    "    #Deconstruimos si es necesario entre los que se encuentren\n",
    "    stuTemp = studioI.split(\",\")\n",
    "    for j in range(len(stuTemp)): stuTemp[j]=stuTemp[j].strip() #Se eliminan vacios\n",
    "\n",
    "    for stu in stuTemp: #Por cada productor del registro\n",
    "        if scoreI != 'Unknown' and stu != 'Unknown': #Si hay desconocidos o vacios, los descartamos porque no podemos trabajar con esa información. \n",
    "            studiodf = pd.concat([studiodf, pd.DataFrame([{'Studio' : stu , 'Score' : float(scoreI)}])], ignore_index=True)"
   ]
  },
  {
   "cell_type": "markdown",
   "metadata": {},
   "source": [
    "Se hizo una limpieza de datos donde se despreciaron los datos desconocidos ya que no será posible trabajar con ellos.  \n",
    "Una vez hecha la limpieza y adecuación de dataframe, vamos a visualizar la información. "
   ]
  },
  {
   "cell_type": "markdown",
   "metadata": {},
   "source": [
    "#### Productores"
   ]
  },
  {
   "cell_type": "code",
   "execution_count": 95,
   "metadata": {},
   "outputs": [
    {
     "data": {
      "text/plain": [
       "1208"
      ]
     },
     "execution_count": 95,
     "metadata": {},
     "output_type": "execute_result"
    }
   ],
   "source": [
    "len(producerdf['Producer'].unique())"
   ]
  },
  {
   "cell_type": "markdown",
   "metadata": {},
   "source": [
    "Hay 1208 productores.  \n",
    "No será posible hacer una comparativa de todos, así que solo se va a hacer una comparativa de aquellos 30 con mayores puntajes para tomar una decisión. "
   ]
  },
  {
   "cell_type": "code",
   "execution_count": 98,
   "metadata": {},
   "outputs": [
    {
     "data": {
      "text/plain": [
       "<Axes: xlabel='Producer'>"
      ]
     },
     "execution_count": 98,
     "metadata": {},
     "output_type": "execute_result"
    },
    {
     "data": {
      "image/png": "[encoded data removed]",
      "text/plain": [
       "<Figure size 640x480 with 1 Axes>"
      ]
     },
     "metadata": {},
     "output_type": "display_data"
    }
   ],
   "source": [
    "producerdf[\"Producer\"].value_counts()[0:30].plot(kind='bar')"
   ]
  },
  {
   "cell_type": "markdown",
   "metadata": {},
   "source": [
    "En relación a los productores, se puede visualizar a primera vista que hay una inclinación marcada a los primeros 5 productores y luego los siguientes 5. No hay tanta variabilidad. A simple vista, se podría decir que colocar a los 5 productores mejor calificados sería adecuado para captar la atención, pero esto también podría generar que muchos usuarios descarten la primera linea por ver a productores tan conocidos sin tener en cuenta otros detalles.  \n",
    "No es concluyente. \n"
   ]
  },
  {
   "cell_type": "markdown",
   "metadata": {},
   "source": [
    "#### Géneros\n"
   ]
  },
  {
   "cell_type": "code",
   "execution_count": 96,
   "metadata": {},
   "outputs": [
    {
     "data": {
      "text/plain": [
       "43"
      ]
     },
     "execution_count": 96,
     "metadata": {},
     "output_type": "execute_result"
    }
   ],
   "source": [
    "len(genredf['Genre'].unique())"
   ]
  },
  {
   "cell_type": "markdown",
   "metadata": {},
   "source": [
    "Hay 43 productores.  \n",
    "No será posible hacer una comparativa de todos, así que solo se va a hacer una comparativa de aquellos 30 con mayores puntajes para tomar una decisión. "
   ]
  },
  {
   "cell_type": "code",
   "execution_count": 55,
   "metadata": {},
   "outputs": [
    {
     "data": {
      "text/plain": [
       "<Axes: xlabel='Genre'>"
      ]
     },
     "execution_count": 55,
     "metadata": {},
     "output_type": "execute_result"
    },
    {
     "data": {
      "image/png": "[encoded data removed]",
      "text/plain": [
       "<Figure size 640x480 with 1 Axes>"
      ]
     },
     "metadata": {},
     "output_type": "display_data"
    }
   ],
   "source": [
    "genredf[\"Genre\"].value_counts()[0:30].plot(kind='bar')"
   ]
  },
  {
   "cell_type": "markdown",
   "metadata": {},
   "source": [
    "En relación a los géneros, se puede visualizar una clara inclinación hacia los géneros de comedia (Comedy) y acción (Action). Si se colocan únicamente estos dos géneros en la primera linea, contrario a captar mejor la atención, va a monopolizar la sección y podría llegar a ser menos considerado a la hora de tomar una decisión para ver anime.   \n",
    "Lo más adecuado sería tomar los animes con mejores calificaciones que hagan parte de los siguientes 10 géneros mejor calificados, pero que incluyan los géneros de comedia (Comedy) y acción (Action) entre sus subgéneros. Sin embargo, no hay forma de asegurar la viabilidad de esto. "
   ]
  },
  {
   "cell_type": "markdown",
   "metadata": {},
   "source": [
    "#### Estudios"
   ]
  },
  {
   "cell_type": "code",
   "execution_count": 97,
   "metadata": {},
   "outputs": [
    {
     "data": {
      "text/plain": [
       "624"
      ]
     },
     "execution_count": 97,
     "metadata": {},
     "output_type": "execute_result"
    }
   ],
   "source": [
    "len(studiodf['Studio'].unique())"
   ]
  },
  {
   "cell_type": "markdown",
   "metadata": {},
   "source": [
    "Hay 624 estudios.  \n",
    "No será posible hacer una comparativa de todos, así que solo se va a hacer una comparativa de aquellos 30 con mayores puntajes para tomar una decisión. "
   ]
  },
  {
   "cell_type": "code",
   "execution_count": 56,
   "metadata": {},
   "outputs": [
    {
     "data": {
      "text/plain": [
       "<Axes: xlabel='Studio'>"
      ]
     },
     "execution_count": 56,
     "metadata": {},
     "output_type": "execute_result"
    },
    {
     "data": {
      "image/png": "[encoded data removed]",
      "text/plain": [
       "<Figure size 640x480 with 1 Axes>"
      ]
     },
     "metadata": {},
     "output_type": "display_data"
    }
   ],
   "source": [
    "studiodf[\"Studio\"].value_counts()[0:30].plot(kind='bar')"
   ]
  },
  {
   "cell_type": "markdown",
   "metadata": {},
   "source": [
    "En relación a los estudios, tiene un comportamiento similar al de los géneros. De la misma forma, ver el mismo estudio podría desmotivar al usuario de escoger un anime a ver. Es probable que el usuario ya conozca de antemano el estudio y sus productos, lo que dificultaría su labor de encontrar algo distinto que ver. Sin embargo, no hay información que respalde esta teoria. \n"
   ]
  },
  {
   "cell_type": "markdown",
   "metadata": {},
   "source": [
    "**Conclusión:** Ha sido posible visualizar aquello que es más agradable para una mejor calificación en cuanto a estudios, productores y estudios, pero son datos superficiales. La conclusión a la que podemos llegar es que no es posible tomar una decisión a partir de la información presentada aquí, se necesita mayor detalle en cuanto al comportamiento de los usuarios más allá de los puntajes. "
   ]
  },
  {
   "cell_type": "markdown",
   "metadata": {},
   "source": [
    "### Segunda Linea"
   ]
  },
  {
   "cell_type": "markdown",
   "metadata": {},
   "source": [
    "Para interpretar correctamente la relación de duración, se va a evaluar la relación que existe entre:  \n",
    "- score y la duración  \n",
    "- score y el número de episodios  \n",
    "- duración y número de episodios  \n",
    "Para interpretar correctamente la relación de compromiso para finalizar, se va a evaluar la relación que existe entre:   \n",
    "- duración vs on-hold (1)  \n",
    "- duración vs dropped (2)   \n",
    "- cantidad de episodios vs on-hold (3)  \n",
    "- cantidad de episodios vs dropped (4)  \n",
    "- (1) vs (3) <- Esto se puede volver multivariado para evitar gráficas. Boxplot(Ashley)  \n",
    "- (2) vs (4) <- Esto se puede volver multivariado para evitar gráficas. Boxplot(Ashley)  \n",
    "- duración vs completed  \n",
    "- cantidad de episodios vs completed  \n",
    "- (5) vs (6) <- Esto se puede volver multivariado para evitar gráficas. Boxplot(Ashley)  \n",
    "(Quitable)  \n",
    "Para interpretar correctamente la relación de fuente se va a evaluar la relación que existe entre fuente vs score  \n",
    "Para interpretar correctamente la relación de tipose va a evaluar la relación que existe entre tipo vs score"
   ]
  },
  {
   "cell_type": "code",
   "execution_count": 101,
   "metadata": {},
   "outputs": [
    {
     "data": {
      "text/html": [
       "<div>\n",
       "<style scoped>\n",
       "    .dataframe tbody tr th:only-of-type {\n",
       "        vertical-align: middle;\n",
       "    }\n",
       "\n",
       "    .dataframe tbody tr th {\n",
       "        vertical-align: top;\n",
       "    }\n",
       "\n",
       "    .dataframe thead th {\n",
       "        text-align: right;\n",
       "    }\n",
       "</style>\n",
       "<table border=\"1\" class=\"dataframe\">\n",
       "  <thead>\n",
       "    <tr style=\"text-align: right;\">\n",
       "      <th></th>\n",
       "      <th>Score</th>\n",
       "      <th>Duration</th>\n",
       "      <th>Episodes</th>\n",
       "      <th>On-Hold</th>\n",
       "      <th>Dropped</th>\n",
       "      <th>Completed</th>\n",
       "    </tr>\n",
       "  </thead>\n",
       "  <tbody>\n",
       "    <tr>\n",
       "      <th>0</th>\n",
       "      <td>8.78</td>\n",
       "      <td>24 min. per ep.</td>\n",
       "      <td>26</td>\n",
       "      <td>71513</td>\n",
       "      <td>26678</td>\n",
       "      <td>718161</td>\n",
       "    </tr>\n",
       "    <tr>\n",
       "      <th>1</th>\n",
       "      <td>8.39</td>\n",
       "      <td>1 hr. 55 min.</td>\n",
       "      <td>1</td>\n",
       "      <td>1935</td>\n",
       "      <td>770</td>\n",
       "      <td>208333</td>\n",
       "    </tr>\n",
       "    <tr>\n",
       "      <th>2</th>\n",
       "      <td>8.24</td>\n",
       "      <td>24 min. per ep.</td>\n",
       "      <td>26</td>\n",
       "      <td>25465</td>\n",
       "      <td>13925</td>\n",
       "      <td>343492</td>\n",
       "    </tr>\n",
       "    <tr>\n",
       "      <th>3</th>\n",
       "      <td>7.27</td>\n",
       "      <td>25 min. per ep.</td>\n",
       "      <td>26</td>\n",
       "      <td>5121</td>\n",
       "      <td>5378</td>\n",
       "      <td>46165</td>\n",
       "    </tr>\n",
       "    <tr>\n",
       "      <th>4</th>\n",
       "      <td>6.98</td>\n",
       "      <td>23 min. per ep.</td>\n",
       "      <td>52</td>\n",
       "      <td>766</td>\n",
       "      <td>1108</td>\n",
       "      <td>7314</td>\n",
       "    </tr>\n",
       "    <tr>\n",
       "      <th>...</th>\n",
       "      <td>...</td>\n",
       "      <td>...</td>\n",
       "      <td>...</td>\n",
       "      <td>...</td>\n",
       "      <td>...</td>\n",
       "      <td>...</td>\n",
       "    </tr>\n",
       "    <tr>\n",
       "      <th>17557</th>\n",
       "      <td>Unknown</td>\n",
       "      <td>Unknown</td>\n",
       "      <td>Unknown</td>\n",
       "      <td>0</td>\n",
       "      <td>0</td>\n",
       "      <td>0</td>\n",
       "    </tr>\n",
       "    <tr>\n",
       "      <th>17558</th>\n",
       "      <td>Unknown</td>\n",
       "      <td>Unknown</td>\n",
       "      <td>Unknown</td>\n",
       "      <td>14</td>\n",
       "      <td>0</td>\n",
       "      <td>0</td>\n",
       "    </tr>\n",
       "    <tr>\n",
       "      <th>17559</th>\n",
       "      <td>Unknown</td>\n",
       "      <td>Unknown</td>\n",
       "      <td>Unknown</td>\n",
       "      <td>0</td>\n",
       "      <td>0</td>\n",
       "      <td>0</td>\n",
       "    </tr>\n",
       "    <tr>\n",
       "      <th>17560</th>\n",
       "      <td>Unknown</td>\n",
       "      <td>Unknown</td>\n",
       "      <td>Unknown</td>\n",
       "      <td>2</td>\n",
       "      <td>1</td>\n",
       "      <td>2</td>\n",
       "    </tr>\n",
       "    <tr>\n",
       "      <th>17561</th>\n",
       "      <td>Unknown</td>\n",
       "      <td>Unknown</td>\n",
       "      <td>Unknown</td>\n",
       "      <td>1</td>\n",
       "      <td>1</td>\n",
       "      <td>0</td>\n",
       "    </tr>\n",
       "  </tbody>\n",
       "</table>\n",
       "<p>17562 rows × 6 columns</p>\n",
       "</div>"
      ],
      "text/plain": [
       "         Score         Duration Episodes  On-Hold  Dropped  Completed\n",
       "0         8.78  24 min. per ep.       26    71513    26678     718161\n",
       "1         8.39    1 hr. 55 min.        1     1935      770     208333\n",
       "2         8.24  24 min. per ep.       26    25465    13925     343492\n",
       "3         7.27  25 min. per ep.       26     5121     5378      46165\n",
       "4         6.98  23 min. per ep.       52      766     1108       7314\n",
       "...        ...              ...      ...      ...      ...        ...\n",
       "17557  Unknown          Unknown  Unknown        0        0          0\n",
       "17558  Unknown          Unknown  Unknown       14        0          0\n",
       "17559  Unknown          Unknown  Unknown        0        0          0\n",
       "17560  Unknown          Unknown  Unknown        2        1          2\n",
       "17561  Unknown          Unknown  Unknown        1        1          0\n",
       "\n",
       "[17562 rows x 6 columns]"
      ]
     },
     "execution_count": 101,
     "metadata": {},
     "output_type": "execute_result"
    }
   ],
   "source": [
    "#Extrayendo las columnas que nos interesan\n",
    "tablaSegundaLinea = tabla[['Score','Duration','Episodes','On-Hold','Dropped','Completed']].copy()\n",
    "tablaSegundaLinea"
   ]
  },
  {
   "cell_type": "code",
   "execution_count": null,
   "metadata": {},
   "outputs": [],
   "source": [
    "#Limpieza de datos\n"
   ]
  },
  {
   "cell_type": "code",
   "execution_count": null,
   "metadata": {},
   "outputs": [],
   "source": [
    "#sns.boxplot(data=dfProducer, x=\"promedio\", y=\"Productor\")\n",
    "\n",
    "# Creacion de un dataframe vacio\n",
    "df= pd.DataFrame(columns=['Producer', 'Score'])\n",
    "df\n",
    "\n",
    "df = pd.concat([df, pd.DataFrame([{'Producer' : 'Alv' , 'Score' : '8.7'}])], ignore_index=True)\n",
    "df"
   ]
  },
  {
   "cell_type": "markdown",
   "metadata": {},
   "source": [
    "Weno, ya al menos avancé un poquito, me falta la segunda parte. Voy a poner las clases de fondo más seguido. "
   ]
  }
 ],
 "metadata": {
  "kernelspec": {
   "display_name": "Python 3",
   "language": "python",
   "name": "python3"
  },
  "language_info": {
   "codemirror_mode": {
    "name": "ipython",
    "version": 3
   },
   "file_extension": ".py",
   "mimetype": "text/x-python",
   "name": "python",
   "nbconvert_exporter": "python",
   "pygments_lexer": "ipython3",
   "version": "3.12.4"
  }
 },
 "nbformat": 4,
 "nbformat_minor": 2
}
