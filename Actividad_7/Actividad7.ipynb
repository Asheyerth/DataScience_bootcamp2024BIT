{
 "cells": [
  {
   "cell_type": "markdown",
   "metadata": {},
   "source": [
    "# Data Wrangling (Limpieza de datos)  \n",
    "## Actividad 7   \n",
    "### Enunciado  \n",
    "  1. Se debería realizar una limpieza de problemas (outliers, duplicados, valores nulos).  \n",
    "  2. En caso de existir valores nulos decidir si se puede utilizar alguna técnica de imputación ya sea sensible o múltiple.  \n",
    "  3. Se deberán resolver el problema de outliers, para esto se deberá generar una estrategia de identificación ya sea con métodos tradicionales (IQ, Z score, etc) o utilizando aprendizaje de máquina (Isolation Forest, LoF,SVM one Class, etc)."
   ]
  },
  {
   "cell_type": "markdown",
   "metadata": {},
   "source": [
    "# Desarrollo"
   ]
  },
  {
   "cell_type": "markdown",
   "metadata": {},
   "source": [
    "## Planificación\n",
    "Se planea hacer una limpieza de datos usando la siguiente secuencia:  \n",
    "    1. Se buscarán valores nulos  \n",
    "    2. Se verificará el porcentaje de valores nulos.  \n",
    "    3. Si la cantidad de valores nulos no es significativo, se descartarán dichos datos. Sino, se tratarán de llenar con algún método conocido.  \n",
    "    4. Una vez tratados los nulos, se tratarán los outliers. \n",
    "\n",
    "### Diseño  \n",
    "Los datos de interés para los futuros modelos serán los siguientes:  \n",
    "Primera linea, variables con interés relacionadas a la retención del usuario:  \n",
    "    - Score: Variable de interés principal  \n",
    "    - Genres: Variable de comparación  \n",
    "    - Producers: Variable de comparación  \n",
    "    - Studios: Variable de comparación  \n",
    "    - Ranked: Variable relevante  \n",
    "    - Popularity: Variable relevante  \n",
    "    - Rating: Variable relevante  \n",
    "    - Favorites: Variable relevante  \n",
    "    - Type: Variable relevante  \n",
    "      \n",
    "Segunda linea, variables con interés a la fidelidad del usuario y el tiempo dedicado:  \n",
    "    - Score: Variable relevante  \n",
    "    - Duration: Variable relevante  \n",
    "    - Episodes: Variable relevante  \n",
    "    - Watching: Variable relevante  \n",
    "    - Completed: Variable relevante  \n",
    "    - On-Hold: Variable relevante  \n",
    "    - Dropped: Variable relevante  \n"
   ]
  },
  {
   "cell_type": "markdown",
   "metadata": {},
   "source": [
    "## Desarrollo técnico"
   ]
  },
  {
   "cell_type": "markdown",
   "metadata": {},
   "source": [
    "### Inicialización"
   ]
  },
  {
   "cell_type": "code",
   "execution_count": 1,
   "metadata": {},
   "outputs": [],
   "source": [
    "import warnings\n",
    "import pandas as pd\n",
    "#import missingno as msn \n",
    "from fancyimpute import IterativeImputer\n",
    "from sklearn.impute import KNNImputer\n",
    "import math\n",
    "\n",
    "import matplotlib.pyplot as plt\n",
    "import seaborn as sns\n",
    "import numpy as np\n",
    "\n",
    "from sklearn.ensemble import IsolationForest\n",
    "from sklearn.model_selection import train_test_split\n",
    "from sklearn.linear_model import LinearRegression\n",
    "from sklearn.metrics import mean_absolute_error\n",
    "from sklearn.covariance import EllipticEnvelope\n",
    "from sklearn.neighbors import LocalOutlierFactor\n",
    "from sklearn.svm import OneClassSVM\n"
   ]
  },
  {
   "cell_type": "code",
   "execution_count": 2,
   "metadata": {},
   "outputs": [
    {
     "data": {
      "text/html": [
       "<div>\n",
       "<style scoped>\n",
       "    .dataframe tbody tr th:only-of-type {\n",
       "        vertical-align: middle;\n",
       "    }\n",
       "\n",
       "    .dataframe tbody tr th {\n",
       "        vertical-align: top;\n",
       "    }\n",
       "\n",
       "    .dataframe thead th {\n",
       "        text-align: right;\n",
       "    }\n",
       "</style>\n",
       "<table border=\"1\" class=\"dataframe\">\n",
       "  <thead>\n",
       "    <tr style=\"text-align: right;\">\n",
       "      <th></th>\n",
       "      <th>MAL_ID</th>\n",
       "      <th>Name</th>\n",
       "      <th>Score</th>\n",
       "      <th>Genres</th>\n",
       "      <th>English name</th>\n",
       "      <th>Japanese name</th>\n",
       "      <th>Type</th>\n",
       "      <th>Episodes</th>\n",
       "      <th>Aired</th>\n",
       "      <th>Premiered</th>\n",
       "      <th>...</th>\n",
       "      <th>Score-10</th>\n",
       "      <th>Score-9</th>\n",
       "      <th>Score-8</th>\n",
       "      <th>Score-7</th>\n",
       "      <th>Score-6</th>\n",
       "      <th>Score-5</th>\n",
       "      <th>Score-4</th>\n",
       "      <th>Score-3</th>\n",
       "      <th>Score-2</th>\n",
       "      <th>Score-1</th>\n",
       "    </tr>\n",
       "  </thead>\n",
       "  <tbody>\n",
       "    <tr>\n",
       "      <th>0</th>\n",
       "      <td>1</td>\n",
       "      <td>Cowboy Bebop</td>\n",
       "      <td>8.78</td>\n",
       "      <td>Action, Adventure, Comedy, Drama, Sci-Fi, Space</td>\n",
       "      <td>Cowboy Bebop</td>\n",
       "      <td>カウボーイビバップ</td>\n",
       "      <td>TV</td>\n",
       "      <td>26</td>\n",
       "      <td>Apr 3, 1998 to Apr 24, 1999</td>\n",
       "      <td>Spring 1998</td>\n",
       "      <td>...</td>\n",
       "      <td>229170.0</td>\n",
       "      <td>182126.0</td>\n",
       "      <td>131625.0</td>\n",
       "      <td>62330.0</td>\n",
       "      <td>20688.0</td>\n",
       "      <td>8904.0</td>\n",
       "      <td>3184.0</td>\n",
       "      <td>1357.0</td>\n",
       "      <td>741.0</td>\n",
       "      <td>1580.0</td>\n",
       "    </tr>\n",
       "    <tr>\n",
       "      <th>1</th>\n",
       "      <td>5</td>\n",
       "      <td>Cowboy Bebop: Tengoku no Tobira</td>\n",
       "      <td>8.39</td>\n",
       "      <td>Action, Drama, Mystery, Sci-Fi, Space</td>\n",
       "      <td>Cowboy Bebop:The Movie</td>\n",
       "      <td>カウボーイビバップ 天国の扉</td>\n",
       "      <td>Movie</td>\n",
       "      <td>1</td>\n",
       "      <td>Sep 1, 2001</td>\n",
       "      <td>Unknown</td>\n",
       "      <td>...</td>\n",
       "      <td>30043.0</td>\n",
       "      <td>49201.0</td>\n",
       "      <td>49505.0</td>\n",
       "      <td>22632.0</td>\n",
       "      <td>5805.0</td>\n",
       "      <td>1877.0</td>\n",
       "      <td>577.0</td>\n",
       "      <td>221.0</td>\n",
       "      <td>109.0</td>\n",
       "      <td>379.0</td>\n",
       "    </tr>\n",
       "  </tbody>\n",
       "</table>\n",
       "<p>2 rows × 35 columns</p>\n",
       "</div>"
      ],
      "text/plain": [
       "   MAL_ID                             Name Score  \\\n",
       "0       1                     Cowboy Bebop  8.78   \n",
       "1       5  Cowboy Bebop: Tengoku no Tobira  8.39   \n",
       "\n",
       "                                            Genres            English name  \\\n",
       "0  Action, Adventure, Comedy, Drama, Sci-Fi, Space            Cowboy Bebop   \n",
       "1            Action, Drama, Mystery, Sci-Fi, Space  Cowboy Bebop:The Movie   \n",
       "\n",
       "    Japanese name   Type Episodes                        Aired    Premiered  \\\n",
       "0       カウボーイビバップ     TV       26  Apr 3, 1998 to Apr 24, 1999  Spring 1998   \n",
       "1  カウボーイビバップ 天国の扉  Movie        1                  Sep 1, 2001      Unknown   \n",
       "\n",
       "   ...  Score-10   Score-9   Score-8  Score-7  Score-6 Score-5 Score-4  \\\n",
       "0  ...  229170.0  182126.0  131625.0  62330.0  20688.0  8904.0  3184.0   \n",
       "1  ...   30043.0   49201.0   49505.0  22632.0   5805.0  1877.0   577.0   \n",
       "\n",
       "   Score-3  Score-2  Score-1  \n",
       "0   1357.0    741.0   1580.0  \n",
       "1    221.0    109.0    379.0  \n",
       "\n",
       "[2 rows x 35 columns]"
      ]
     },
     "execution_count": 2,
     "metadata": {},
     "output_type": "execute_result"
    }
   ],
   "source": [
    "#Lectura del archivo y confirmación de contenido\n",
    "\n",
    "tabla=pd.read_csv('anime.csv',sep=',',encoding='utf-8')\n",
    "tabla.head(2)"
   ]
  },
  {
   "cell_type": "code",
   "execution_count": 3,
   "metadata": {},
   "outputs": [],
   "source": [
    "#Separación de los datos de interés \n",
    "data1 = tabla[['Name','Score', 'Genres', 'Producers', 'Studios','Ranked','Popularity','Rating','Favorites','Type']].copy()\n",
    "data2 = tabla[['Name','Score', 'Duration', 'Episodes', 'Watching','Completed','On-Hold','Dropped']].copy()"
   ]
  },
  {
   "cell_type": "markdown",
   "metadata": {},
   "source": [
    "Tomado de actividades anteriores para el procesamiento de los datos. "
   ]
  },
  {
   "cell_type": "code",
   "execution_count": 4,
   "metadata": {},
   "outputs": [],
   "source": [
    "warnings.filterwarnings(\"ignore\")\n",
    "#Primera linea \n",
    "#Pasando de lista separada por comas a listas estructuradas\n",
    "def deconstruir(line): #Linea base\n",
    "  if (line == 'Unknown'): #Si es desconocido se deja igual. \n",
    "      return 'Unknown'\n",
    "  else:\n",
    "    temp = line.split(\",\") #Se separa en una lista separada por comas\n",
    "    return temp\n",
    "\n",
    "#Procesando\n",
    "for i in range(len(data1)): #por cada fila\n",
    "  data1['Genres'][i] = deconstruir(data1['Genres'][i])\n",
    "  data1['Producers'][i] = deconstruir(data1['Producers'][i])\n",
    "  data1['Studios'][i] = deconstruir(data1['Studios'][i])"
   ]
  },
  {
   "cell_type": "code",
   "execution_count": 5,
   "metadata": {},
   "outputs": [],
   "source": [
    "warnings.filterwarnings(\"ignore\")\n",
    "#Segunda linea\n",
    "#Método para procesar el tiempo de duración a float\n",
    "def procesarDateToFloat(line, episodes): #Se recibe la linea base a procesar y la cantidad de episodios\n",
    "  if (line == 'Unknown'): #Si es desconocido, se deja igual. \n",
    "      return 'Unknown'\n",
    "  else:\n",
    "      if (episodes == 'Unknown'): #Si no se sabe cuantos episodios tuvo\n",
    "          epis = 0 #Se asume que tuvo al menos uno\n",
    "      else: #Sino \n",
    "          epis = int(episodes) #Se usa el número de episodios\n",
    "      #Deconstruimos si es necesario entre los que se encuentren\n",
    "      dur = line.split(\" \")\n",
    "      duration = 0 #Variable para colocar la duración en minutos\n",
    "            #Hay varios casos aquí: \n",
    "            #1 Cuando es en segundos \"x sec.\"\n",
    "            #2 Cuando es en segundos por episodios \"x sec. per ep.\"\n",
    "            #3 Cuando es en minutos \"x min.\"\n",
    "            #4 Cuando es en minutos por episodios \"x min. per ep.\"\n",
    "            #5 Cuando es en horas \"x hr.\"\n",
    "            #6 Cuando es en horas y minutos \"x hr. x min.\"\n",
    "\n",
    "      if dur[1] == \"sec.\": #Si es por segundos\n",
    "            duration = float(dur[0]) / 60 #Se divide el valor en 60 para volverlo minutos. \n",
    "            #Queda validado caso 1\n",
    "      elif dur[1] == \"min.\": #Sino, se valida si es por minutos\n",
    "            duration = float(dur[0]) #Se deja el valor en minutos\n",
    "            #Queda validado caso 3\n",
    "      else: #Sino, es por horas\n",
    "            duration = float(dur[0]) * 60 #Se multiplica el valor por 60 para volverlo minutos\n",
    "            #Queda validado caso 5\n",
    "\n",
    "      if len(dur) > 2: #Si el tamaño es mayor a 2, es porque es una duración compuesta\n",
    "            if dur[-1] == \"ep.\": #Si se divide por episodios, se validan casos 2 y 4\n",
    "                  duration = duration * epis #Se multiplica por la cantidad de episodios\n",
    "                  #Quedan validados casos 2 y 4\n",
    "            elif dur[-1] == \"min.\": #Si se divide en horas y minutos, se valida caso 6\n",
    "                  duration = duration + float(dur[2]) #Se suman los minutos\n",
    "      return duration\n",
    "  \n",
    "for i in range(len(data2)): #Por cada fila\n",
    "     data2['Duration'][i] = procesarDateToFloat(data2['Duration'][i], data2['Episodes'][i])"
   ]
  },
  {
   "cell_type": "markdown",
   "metadata": {},
   "source": [
    "Para la primera linea: Ahora se tienen los valores categoricos en una lista estructurada para trabajar mejor.  \n",
    "Para la segunda linea: Ahora se tiene la duración total del anime en minutos. "
   ]
  },
  {
   "cell_type": "markdown",
   "metadata": {},
   "source": [
    "### Nulos"
   ]
  },
  {
   "cell_type": "code",
   "execution_count": 6,
   "metadata": {},
   "outputs": [
    {
     "name": "stdout",
     "output_type": "stream",
     "text": [
      "Primera linea:\n",
      "Name          0\n",
      "Score         0\n",
      "Genres        0\n",
      "Producers     0\n",
      "Studios       0\n",
      "Ranked        0\n",
      "Popularity    0\n",
      "Rating        0\n",
      "Favorites     0\n",
      "Type          0\n",
      "dtype: int64\n",
      "Segunda linea:\n",
      "Name         0\n",
      "Score        0\n",
      "Duration     0\n",
      "Episodes     0\n",
      "Watching     0\n",
      "Completed    0\n",
      "On-Hold      0\n",
      "Dropped      0\n",
      "dtype: int64\n"
     ]
    }
   ],
   "source": [
    "#Se verifica que no tenga nulos\n",
    "print('Primera linea:')\n",
    "print(data1.isnull().sum())\n",
    "print('Segunda linea:')\n",
    "print(data2.isnull().sum())"
   ]
  },
  {
   "cell_type": "markdown",
   "metadata": {},
   "source": [
    "Sin embargo, gracias al análisis exploratorio de datos, se sabe que no hay valores nulos, pero si se encuentran valores \"unknown\". En el caso actual, serian equivalentes. Por lo tanto, hay que trabajar los datos unknown. "
   ]
  },
  {
   "cell_type": "code",
   "execution_count": 7,
   "metadata": {},
   "outputs": [
    {
     "name": "stdout",
     "output_type": "stream",
     "text": [
      "Cantidad de filas que presentan nulos: 12190\n",
      "Porcentaje de filas que presentan nulos:\n",
      "69.41122878943172\n"
     ]
    }
   ],
   "source": [
    "nulos = data1.apply(lambda row: row.astype(str).str.contains('Unknown').any(), axis=1).sum()\n",
    "print('Cantidad de filas que presentan nulos: '+str(nulos))\n",
    "print('Porcentaje de filas que presentan nulos:')\n",
    "print((nulos/len(data1))*100)"
   ]
  },
  {
   "cell_type": "code",
   "execution_count": 8,
   "metadata": {},
   "outputs": [
    {
     "name": "stdout",
     "output_type": "stream",
     "text": [
      "Cantidad de filas que presentan nulos: 5266\n",
      "Porcentaje de filas que presentan nulos:\n",
      "29.985195308051477\n"
     ]
    }
   ],
   "source": [
    "nulos = data2.apply(lambda row: row.astype(str).str.contains('Unknown').any(), axis=1).sum()\n",
    "print('Cantidad de filas que presentan nulos: '+str(nulos))\n",
    "print('Porcentaje de filas que presentan nulos:')\n",
    "print((nulos/len(data1))*100)"
   ]
  },
  {
   "cell_type": "markdown",
   "metadata": {},
   "source": [
    "En ambos casos es un porcentaje considerable, por lo que no es bueno perder tanta información.  \n",
    "Se procede a reemplazar los datos.  \n",
    "Se escogido **la imputación multiple o predictiva** porque son demasiados nulos. Los datos serán sometidos ambos a los métodos de Knn imputation y Mice Imputation.   "
   ]
  },
  {
   "cell_type": "markdown",
   "metadata": {},
   "source": [
    "¿Donde se encuentran exactamente estos nulos disfrazados de Unknown? "
   ]
  },
  {
   "cell_type": "code",
   "execution_count": 9,
   "metadata": {},
   "outputs": [
    {
     "name": "stdout",
     "output_type": "stream",
     "text": [
      "{'Name': 0, 'Score': 5141, 'Genres': 63, 'Producers': 7794, 'Studios': 7079, 'Ranked': 1762, 'Popularity': 0, 'Rating': 688, 'Favorites': 0, 'Type': 37}\n"
     ]
    }
   ],
   "source": [
    "null = {} #Se crea diccionario para almacenar los unknowns\n",
    "for i in data1.columns: #Por cada columna\n",
    "    null[i] = int((data1[i].values == 'Unknown').sum()) #Se obtiene la cantidad de Unknowns\n",
    "print(null)"
   ]
  },
  {
   "cell_type": "code",
   "execution_count": 10,
   "metadata": {},
   "outputs": [
    {
     "name": "stdout",
     "output_type": "stream",
     "text": [
      "{'Name': 0, 'Score': 5141, 'Duration': 555, 'Episodes': 516, 'Watching': 0, 'Completed': 0, 'On-Hold': 0, 'Dropped': 0}\n"
     ]
    }
   ],
   "source": [
    "null = {} #Se crea diccionario para almacenar los unknowns\n",
    "for i in data2.columns: #Por cada columna\n",
    "    null[i] = int((data2[i].values == 'Unknown').sum()) #Se obtiene la cantidad de Unknowns\n",
    "print(null)"
   ]
  },
  {
   "cell_type": "markdown",
   "metadata": {},
   "source": [
    "#### Segunda linea"
   ]
  },
  {
   "cell_type": "markdown",
   "metadata": {},
   "source": [
    "Para la segunda linea se va a tomar los valores 'Unknown' y volvernos valores nulos para poder trabajar adecuadamente con ellos. "
   ]
  },
  {
   "cell_type": "code",
   "execution_count": 11,
   "metadata": {},
   "outputs": [],
   "source": [
    "for i in data1.columns: #Por cada columna\n",
    "    data1[i] = data1[i].apply(lambda x: x if x != 'Unknown' else np.nan) #Se cambia los valores Unknown por NaN"
   ]
  },
  {
   "cell_type": "code",
   "execution_count": 12,
   "metadata": {},
   "outputs": [],
   "source": [
    "for i in data2.columns: #Por cada columna\n",
    "    data2[i] = data2[i].apply(lambda x: x if (x != 'Unknown') else np.nan) #Se cambia los valores Unknown por NaN\n",
    "    data2[i] = data2[i].apply(lambda x: x if (x != 0) else np.nan) #Se cambia los valores 0 por NaN"
   ]
  },
  {
   "cell_type": "code",
   "execution_count": 13,
   "metadata": {},
   "outputs": [
    {
     "data": {
      "text/plain": [
       "Name             0\n",
       "Score         5141\n",
       "Genres          63\n",
       "Producers     7794\n",
       "Studios       7079\n",
       "Ranked        1762\n",
       "Popularity       0\n",
       "Rating         688\n",
       "Favorites        0\n",
       "Type            37\n",
       "dtype: int64"
      ]
     },
     "execution_count": 13,
     "metadata": {},
     "output_type": "execute_result"
    }
   ],
   "source": [
    "data1.isnull().sum() #Ver los nulos de las filas"
   ]
  },
  {
   "cell_type": "code",
   "execution_count": 14,
   "metadata": {},
   "outputs": [
    {
     "data": {
      "text/plain": [
       "Name            0\n",
       "Score        5141\n",
       "Duration      555\n",
       "Episodes      516\n",
       "Watching      357\n",
       "Completed     531\n",
       "On-Hold       871\n",
       "Dropped       376\n",
       "dtype: int64"
      ]
     },
     "execution_count": 14,
     "metadata": {},
     "output_type": "execute_result"
    }
   ],
   "source": [
    "data2.isnull().sum() #Ver los nulos de las filas"
   ]
  },
  {
   "cell_type": "markdown",
   "metadata": {},
   "source": [
    "Ahora si podemos trabajar con valores nulos. "
   ]
  },
  {
   "cell_type": "code",
   "execution_count": 15,
   "metadata": {},
   "outputs": [
    {
     "data": {
      "text/plain": [
       "Text(0.5, 1.0, 'Modificacion')"
      ]
     },
     "execution_count": 15,
     "metadata": {},
     "output_type": "execute_result"
    },
    {
     "data": {
      "image/png": "[encoded data removed]",
      "text/plain": [
       "<Figure size 1000x600 with 2 Axes>"
      ]
     },
     "metadata": {},
     "output_type": "display_data"
    }
   ],
   "source": [
    "#Imputación multiple para la segunda linea\n",
    "mice_impute = IterativeImputer()\n",
    "data2fill = mice_impute.fit_transform(data2[['Score','Duration','Episodes','Watching','Completed','On-Hold','Dropped']])\n",
    "data2fillDF= pd.DataFrame(data2fill)\n",
    "\n",
    "# Verificar si cambiamos distribucion\n",
    "plt.figure(figsize=(10,6)) \n",
    "plt.subplot(121)\n",
    "sns.histplot(data2['Score'])\n",
    "plt.title('Original')\n",
    "plt.subplot(122)\n",
    "sns.histplot(data2fillDF[0])\n",
    "plt.title('Modificacion')"
   ]
  },
  {
   "cell_type": "markdown",
   "metadata": {},
   "source": [
    "Es muy diferente la distribución. Este llenado no es viable. "
   ]
  },
  {
   "cell_type": "markdown",
   "metadata": {},
   "source": [
    "Probemos ahora con imputación multiple KNN"
   ]
  },
  {
   "cell_type": "code",
   "execution_count": 16,
   "metadata": {},
   "outputs": [
    {
     "data": {
      "text/plain": [
       "Text(0.5, 1.0, 'Modificacion')"
      ]
     },
     "execution_count": 16,
     "metadata": {},
     "output_type": "execute_result"
    },
    {
     "data": {
      "image/png": "[encoded data removed]",
      "text/plain": [
       "<Figure size 1000x600 with 2 Axes>"
      ]
     },
     "metadata": {},
     "output_type": "display_data"
    }
   ],
   "source": [
    "imputer = KNNImputer(n_neighbors= 3).set_output(transform='pandas')\n",
    "data2f = imputer.fit_transform(data2.drop('Name', axis=1))\n",
    "\n",
    "# Verificar si cambiamos distribucion\n",
    "plt.figure(figsize=(10,6)) \n",
    "plt.subplot(121)\n",
    "sns.histplot(data2['Score'])\n",
    "plt.title('Original')\n",
    "plt.subplot(122)\n",
    "sns.histplot(data2f['Score'])\n",
    "plt.title('Modificacion')"
   ]
  },
  {
   "cell_type": "markdown",
   "metadata": {},
   "source": [
    "Es más coherente que el anterior. "
   ]
  },
  {
   "cell_type": "code",
   "execution_count": 17,
   "metadata": {},
   "outputs": [],
   "source": [
    "data2f['Name'] = data2['Name'] #Se agrega la columna de nombres"
   ]
  },
  {
   "cell_type": "code",
   "execution_count": 18,
   "metadata": {},
   "outputs": [],
   "source": [
    "#Se elimina la parte entera de aquellas categorías que así lo requieran\n",
    "for i in range(len(data2f)):\n",
    "    data2f['Duration'][i]=math.trunc(data2f['Duration'][i])\n",
    "    data2f['Episodes'][i]=math.trunc(data2f['Episodes'][i])\n",
    "    data2f['Completed'][i]=math.trunc(data2f['Completed'][i])\n",
    "    data2f['Dropped'][i]=math.trunc(data2f['Dropped'][i])\n",
    "    data2f['On-Hold'][i]=math.trunc(data2f['On-Hold'][i])\n",
    "    data2f['Watching'][i]=math.trunc(data2f['Watching'][i])"
   ]
  },
  {
   "cell_type": "code",
   "execution_count": 19,
   "metadata": {},
   "outputs": [
    {
     "data": {
      "text/html": [
       "<div>\n",
       "<style scoped>\n",
       "    .dataframe tbody tr th:only-of-type {\n",
       "        vertical-align: middle;\n",
       "    }\n",
       "\n",
       "    .dataframe tbody tr th {\n",
       "        vertical-align: top;\n",
       "    }\n",
       "\n",
       "    .dataframe thead th {\n",
       "        text-align: right;\n",
       "    }\n",
       "</style>\n",
       "<table border=\"1\" class=\"dataframe\">\n",
       "  <thead>\n",
       "    <tr style=\"text-align: right;\">\n",
       "      <th></th>\n",
       "      <th>Score</th>\n",
       "      <th>Duration</th>\n",
       "      <th>Episodes</th>\n",
       "      <th>Watching</th>\n",
       "      <th>Completed</th>\n",
       "      <th>On-Hold</th>\n",
       "      <th>Dropped</th>\n",
       "      <th>Name</th>\n",
       "    </tr>\n",
       "  </thead>\n",
       "  <tbody>\n",
       "    <tr>\n",
       "      <th>17558</th>\n",
       "      <td>5.676667</td>\n",
       "      <td>2140.0</td>\n",
       "      <td>425.0</td>\n",
       "      <td>14.0</td>\n",
       "      <td>132.0</td>\n",
       "      <td>14.0</td>\n",
       "      <td>57.0</td>\n",
       "      <td>Mieruko-chan</td>\n",
       "    </tr>\n",
       "    <tr>\n",
       "      <th>17559</th>\n",
       "      <td>5.993333</td>\n",
       "      <td>17.0</td>\n",
       "      <td>1.0</td>\n",
       "      <td>3.0</td>\n",
       "      <td>33.0</td>\n",
       "      <td>2.0</td>\n",
       "      <td>19.0</td>\n",
       "      <td>Higurashi no Naku Koro ni Sotsu</td>\n",
       "    </tr>\n",
       "    <tr>\n",
       "      <th>17560</th>\n",
       "      <td>5.493333</td>\n",
       "      <td>130.0</td>\n",
       "      <td>4.0</td>\n",
       "      <td>13.0</td>\n",
       "      <td>2.0</td>\n",
       "      <td>2.0</td>\n",
       "      <td>1.0</td>\n",
       "      <td>Yama no Susume: Next Summit</td>\n",
       "    </tr>\n",
       "    <tr>\n",
       "      <th>17561</th>\n",
       "      <td>6.563333</td>\n",
       "      <td>9.0</td>\n",
       "      <td>1.0</td>\n",
       "      <td>4.0</td>\n",
       "      <td>24.0</td>\n",
       "      <td>1.0</td>\n",
       "      <td>1.0</td>\n",
       "      <td>Scarlet Nexus</td>\n",
       "    </tr>\n",
       "  </tbody>\n",
       "</table>\n",
       "</div>"
      ],
      "text/plain": [
       "          Score  Duration  Episodes  Watching  Completed  On-Hold  Dropped  \\\n",
       "17558  5.676667    2140.0     425.0      14.0      132.0     14.0     57.0   \n",
       "17559  5.993333      17.0       1.0       3.0       33.0      2.0     19.0   \n",
       "17560  5.493333     130.0       4.0      13.0        2.0      2.0      1.0   \n",
       "17561  6.563333       9.0       1.0       4.0       24.0      1.0      1.0   \n",
       "\n",
       "                                  Name  \n",
       "17558                     Mieruko-chan  \n",
       "17559  Higurashi no Naku Koro ni Sotsu  \n",
       "17560      Yama no Susume: Next Summit  \n",
       "17561                    Scarlet Nexus  "
      ]
     },
     "execution_count": 19,
     "metadata": {},
     "output_type": "execute_result"
    }
   ],
   "source": [
    "#Se confirma que los datos estén llenos\n",
    "data2f.tail(4)"
   ]
  },
  {
   "cell_type": "markdown",
   "metadata": {},
   "source": [
    "Ahora tenemos el dataframe de la segunda linea sin valores nulos. Listo para pasar a los Outliers"
   ]
  },
  {
   "cell_type": "markdown",
   "metadata": {},
   "source": [
    "#### Primera linea"
   ]
  },
  {
   "cell_type": "markdown",
   "metadata": {},
   "source": [
    "Para el caso de la primera linea, va a ser un poco distinto.  \n",
    "Las columnas de **Genres, Producers y Studios** constan de estructuras de datos con los asociados a un anime. Por lo tanto, se va a expandir el dataframe para poder hacer una implantación multiple de los datos.  \n",
    "El proceso será el siguiente:  \n",
    "    1. Se llenarán los nulos de las categorías **Type, Rating y Ranked**  \n",
    "    2. Se multiplicarán las filas por categorías **Genres, Producers y Studios**  \n",
    "    3. Se hará la implantación multiple.  "
   ]
  },
  {
   "cell_type": "code",
   "execution_count": 20,
   "metadata": {},
   "outputs": [
    {
     "name": "stdout",
     "output_type": "stream",
     "text": [
      "Type\n",
      "['TV' 'Movie' 'OVA' 'Special' 'ONA' 'Music' nan]\n",
      "Rating\n",
      "['R - 17+ (violence & profanity)' 'PG-13 - Teens 13 or older'\n",
      " 'PG - Children' 'R+ - Mild Nudity' 'G - All Ages' 'Rx - Hentai' nan]\n"
     ]
    }
   ],
   "source": [
    "print('Type')\n",
    "print(data1['Type'].unique())\n",
    "print('Rating')\n",
    "print(data1['Rating'].unique())"
   ]
  },
  {
   "cell_type": "markdown",
   "metadata": {},
   "source": [
    "Se van a convertir las categorías **Type y Rating** a valores ordinales teniendo en cuenta la duración promedio del producto y la gravedad del contenido correspondientemente. "
   ]
  },
  {
   "cell_type": "code",
   "execution_count": 21,
   "metadata": {},
   "outputs": [],
   "source": [
    "for i in range(len(data1)):\n",
    "    if data1['Rating'][i] == 'G - All Ages':\n",
    "        data1['Rating'][i] = 0\n",
    "    elif data1['Rating'][i] == 'PG - Children':\n",
    "        data1['Rating'][i] = 1\n",
    "    elif data1['Rating'][i] == 'PG-13 - Teens 13 or older':\n",
    "        data1['Rating'][i] = 2\n",
    "    elif data1['Rating'][i] == 'R - 17+ (violence & profanity)':\n",
    "        data1['Rating'][i] = 3\n",
    "    elif data1['Rating'][i] == 'R+ - Mild Nudity':\n",
    "        data1['Rating'][i] = 4\n",
    "    elif data1['Rating'][i] == 'Rx - Hentai':\n",
    "        data1['Rating'][i] = 5\n",
    "    else:\n",
    "        data1['Rating'][i] = data1['Rating'][i]"
   ]
  },
  {
   "cell_type": "code",
   "execution_count": 22,
   "metadata": {},
   "outputs": [],
   "source": [
    "for i in range(len(data1)):\n",
    "    if data1['Type'][i] == 'Music':\n",
    "        data1['Type'][i] = 0\n",
    "    elif data1['Type'][i] == 'Special':\n",
    "        data1['Type'][i] = 1\n",
    "    elif data1['Type'][i] == 'OVA':\n",
    "        data1['Type'][i] = 2\n",
    "    elif data1['Type'][i] == 'Movie':\n",
    "        data1['Type'][i] = 3\n",
    "    elif data1['Type'][i] == 'ONA':\n",
    "        data1['Type'][i] = 4\n",
    "    elif data1['Type'][i] == 'TV':\n",
    "        data1['Type'][i] = 5\n",
    "    else:\n",
    "        data1['Type'][i] = data1['Type'][i]"
   ]
  },
  {
   "cell_type": "markdown",
   "metadata": {},
   "source": [
    "Ahora a llenar los nulos"
   ]
  },
  {
   "cell_type": "code",
   "execution_count": 23,
   "metadata": {},
   "outputs": [
    {
     "data": {
      "text/plain": [
       "Text(0.5, 1.0, 'Modificacion')"
      ]
     },
     "execution_count": 23,
     "metadata": {},
     "output_type": "execute_result"
    },
    {
     "data": {
      "image/png": "[encoded data removed]",
      "text/plain": [
       "<Figure size 1000x600 with 2 Axes>"
      ]
     },
     "metadata": {},
     "output_type": "display_data"
    }
   ],
   "source": [
    "#Imputación multiple para la primera linea\n",
    "mice_impute = IterativeImputer()\n",
    "data1fill = mice_impute.fit_transform(data1[['Score','Ranked','Popularity','Rating','Favorites','Type']])\n",
    "data1fillDF= pd.DataFrame(data1fill)\n",
    "\n",
    "# Verificar si cambiamos distribucion\n",
    "plt.figure(figsize=(10,6)) \n",
    "plt.subplot(121)\n",
    "sns.histplot(data1['Score'])\n",
    "plt.title('Original')\n",
    "plt.subplot(122)\n",
    "sns.histplot(data1fillDF[0])\n",
    "plt.title('Modificacion')"
   ]
  },
  {
   "cell_type": "code",
   "execution_count": 24,
   "metadata": {},
   "outputs": [
    {
     "data": {
      "text/plain": [
       "Text(0.5, 1.0, 'Modificacion')"
      ]
     },
     "execution_count": 24,
     "metadata": {},
     "output_type": "execute_result"
    },
    {
     "data": {
      "image/png": "[encoded data removed]",
      "text/plain": [
       "<Figure size 1000x600 with 2 Axes>"
      ]
     },
     "metadata": {},
     "output_type": "display_data"
    }
   ],
   "source": [
    "imputer = KNNImputer(n_neighbors= 3).set_output(transform='pandas')\n",
    "data1f = imputer.fit_transform(data1.drop(['Name','Genres','Producers','Studios'], axis=1))\n",
    "\n",
    "# Verificar si cambiamos distribucion\n",
    "plt.figure(figsize=(10,6)) \n",
    "plt.subplot(121)\n",
    "sns.histplot(data1['Score'])\n",
    "plt.title('Original')\n",
    "plt.subplot(122)\n",
    "sns.histplot(data1f['Score'])\n",
    "plt.title('Modificacion')"
   ]
  },
  {
   "cell_type": "markdown",
   "metadata": {},
   "source": [
    "En el caso de la primera linea, es mejor el método Mice.  \n",
    "\n",
    "Preparamos el dataframe a usar. "
   ]
  },
  {
   "cell_type": "code",
   "execution_count": 25,
   "metadata": {},
   "outputs": [
    {
     "data": {
      "text/html": [
       "<div>\n",
       "<style scoped>\n",
       "    .dataframe tbody tr th:only-of-type {\n",
       "        vertical-align: middle;\n",
       "    }\n",
       "\n",
       "    .dataframe tbody tr th {\n",
       "        vertical-align: top;\n",
       "    }\n",
       "\n",
       "    .dataframe thead th {\n",
       "        text-align: right;\n",
       "    }\n",
       "</style>\n",
       "<table border=\"1\" class=\"dataframe\">\n",
       "  <thead>\n",
       "    <tr style=\"text-align: right;\">\n",
       "      <th></th>\n",
       "      <th>Score</th>\n",
       "      <th>Ranked</th>\n",
       "      <th>Popularity</th>\n",
       "      <th>Rating</th>\n",
       "      <th>Favorites</th>\n",
       "      <th>Type</th>\n",
       "    </tr>\n",
       "  </thead>\n",
       "  <tbody>\n",
       "    <tr>\n",
       "      <th>0</th>\n",
       "      <td>8.78</td>\n",
       "      <td>28.0</td>\n",
       "      <td>39.0</td>\n",
       "      <td>3.0</td>\n",
       "      <td>61971.0</td>\n",
       "      <td>5.0</td>\n",
       "    </tr>\n",
       "    <tr>\n",
       "      <th>1</th>\n",
       "      <td>8.39</td>\n",
       "      <td>159.0</td>\n",
       "      <td>518.0</td>\n",
       "      <td>3.0</td>\n",
       "      <td>1174.0</td>\n",
       "      <td>3.0</td>\n",
       "    </tr>\n",
       "  </tbody>\n",
       "</table>\n",
       "</div>"
      ],
      "text/plain": [
       "   Score  Ranked  Popularity  Rating  Favorites  Type\n",
       "0   8.78    28.0        39.0     3.0    61971.0   5.0\n",
       "1   8.39   159.0       518.0     3.0     1174.0   3.0"
      ]
     },
     "execution_count": 25,
     "metadata": {},
     "output_type": "execute_result"
    }
   ],
   "source": [
    "data1fillDF = data1fillDF.rename(columns={0: 'Score',1: 'Ranked',2: 'Popularity',3: 'Rating',4: 'Favorites',5: 'Type'})\n",
    "data1fillDF.head(2)"
   ]
  },
  {
   "cell_type": "code",
   "execution_count": 26,
   "metadata": {},
   "outputs": [
    {
     "name": "stdout",
     "output_type": "stream",
     "text": [
      "Rating\n",
      "Rating\n",
      "-0.181009    1\n",
      " 0.116028    1\n",
      " 0.733878    1\n",
      "-0.181108    1\n",
      " 0.856348    1\n",
      "Name: count, dtype: int64\n",
      "Type\n",
      "Type\n",
      "2.721141    1\n",
      "2.102010    1\n",
      "1.706397    1\n",
      "2.681607    1\n",
      "2.435614    1\n",
      "Name: count, dtype: int64\n"
     ]
    }
   ],
   "source": [
    "print('Rating')\n",
    "print(data1fillDF['Rating'].value_counts().tail(5))\n",
    "print('Type')\n",
    "print(data1fillDF['Type'].value_counts().tail(5))"
   ]
  },
  {
   "cell_type": "code",
   "execution_count": 27,
   "metadata": {},
   "outputs": [],
   "source": [
    "#Eliminando los valores no enteros de Type y Ranting\n",
    "#Adicionalmente se eliminan los valores decimales de Ranked, se repetirán posiciones\n",
    "for i in range(len(data1fillDF)):\n",
    "    data1fillDF['Rating'][i]=math.trunc(data1fillDF['Rating'][i])\n",
    "    data1fillDF['Type'][i]=math.trunc(data1fillDF['Type'][i])\n",
    "    data1fillDF['Ranked'][i]=math.trunc(data1fillDF['Ranked'][i])"
   ]
  },
  {
   "cell_type": "code",
   "execution_count": 28,
   "metadata": {},
   "outputs": [
    {
     "name": "stdout",
     "output_type": "stream",
     "text": [
      "Rating\n",
      "Rating\n",
      "2.0    6229\n",
      "0.0    6078\n",
      "1.0    1752\n",
      "5.0    1345\n",
      "3.0    1161\n",
      "4.0     997\n",
      "Name: count, dtype: int64\n",
      "Type\n",
      "Type\n",
      "5.0    4996\n",
      "2.0    3912\n",
      "3.0    3059\n",
      "1.0    2219\n",
      "4.0    1907\n",
      "0.0    1469\n",
      "Name: count, dtype: int64\n"
     ]
    }
   ],
   "source": [
    "#Confirmando que solo hayan valores no decimales\n",
    "print('Rating')\n",
    "print(data1fillDF['Rating'].value_counts())\n",
    "print('Type')\n",
    "print(data1fillDF['Type'].value_counts())"
   ]
  },
  {
   "cell_type": "code",
   "execution_count": 29,
   "metadata": {},
   "outputs": [
    {
     "data": {
      "text/html": [
       "<div>\n",
       "<style scoped>\n",
       "    .dataframe tbody tr th:only-of-type {\n",
       "        vertical-align: middle;\n",
       "    }\n",
       "\n",
       "    .dataframe tbody tr th {\n",
       "        vertical-align: top;\n",
       "    }\n",
       "\n",
       "    .dataframe thead th {\n",
       "        text-align: right;\n",
       "    }\n",
       "</style>\n",
       "<table border=\"1\" class=\"dataframe\">\n",
       "  <thead>\n",
       "    <tr style=\"text-align: right;\">\n",
       "      <th></th>\n",
       "      <th>Score</th>\n",
       "      <th>Ranked</th>\n",
       "      <th>Popularity</th>\n",
       "      <th>Rating</th>\n",
       "      <th>Favorites</th>\n",
       "      <th>Type</th>\n",
       "      <th>Name</th>\n",
       "      <th>Genres</th>\n",
       "      <th>Producers</th>\n",
       "      <th>Studios</th>\n",
       "    </tr>\n",
       "  </thead>\n",
       "  <tbody>\n",
       "    <tr>\n",
       "      <th>0</th>\n",
       "      <td>8.78</td>\n",
       "      <td>28.0</td>\n",
       "      <td>39.0</td>\n",
       "      <td>3.0</td>\n",
       "      <td>61971.0</td>\n",
       "      <td>5.0</td>\n",
       "      <td>Cowboy Bebop</td>\n",
       "      <td>[Action,  Adventure,  Comedy,  Drama,  Sci-Fi,...</td>\n",
       "      <td>[Bandai Visual]</td>\n",
       "      <td>[Sunrise]</td>\n",
       "    </tr>\n",
       "    <tr>\n",
       "      <th>1</th>\n",
       "      <td>8.39</td>\n",
       "      <td>159.0</td>\n",
       "      <td>518.0</td>\n",
       "      <td>3.0</td>\n",
       "      <td>1174.0</td>\n",
       "      <td>3.0</td>\n",
       "      <td>Cowboy Bebop: Tengoku no Tobira</td>\n",
       "      <td>[Action,  Drama,  Mystery,  Sci-Fi,  Space]</td>\n",
       "      <td>[Sunrise,  Bandai Visual]</td>\n",
       "      <td>[Bones]</td>\n",
       "    </tr>\n",
       "  </tbody>\n",
       "</table>\n",
       "</div>"
      ],
      "text/plain": [
       "   Score  Ranked  Popularity  Rating  Favorites  Type  \\\n",
       "0   8.78    28.0        39.0     3.0    61971.0   5.0   \n",
       "1   8.39   159.0       518.0     3.0     1174.0   3.0   \n",
       "\n",
       "                              Name  \\\n",
       "0                     Cowboy Bebop   \n",
       "1  Cowboy Bebop: Tengoku no Tobira   \n",
       "\n",
       "                                              Genres  \\\n",
       "0  [Action,  Adventure,  Comedy,  Drama,  Sci-Fi,...   \n",
       "1        [Action,  Drama,  Mystery,  Sci-Fi,  Space]   \n",
       "\n",
       "                   Producers    Studios  \n",
       "0            [Bandai Visual]  [Sunrise]  \n",
       "1  [Sunrise,  Bandai Visual]    [Bones]  "
      ]
     },
     "execution_count": 29,
     "metadata": {},
     "output_type": "execute_result"
    }
   ],
   "source": [
    "#Fusionando dataframes\n",
    "data1fillDF['Name'] = data1['Name']\n",
    "data1fillDF['Genres'] = data1['Genres']\n",
    "data1fillDF['Producers'] = data1['Producers']\n",
    "data1fillDF['Studios'] = data1['Studios']\n",
    "data1fillDF.head(2)"
   ]
  },
  {
   "cell_type": "markdown",
   "metadata": {},
   "source": [
    "Ahora a dividir la información. Los nulos y Unknown se encuentran en **Genres, Producers y Studios**"
   ]
  },
  {
   "cell_type": "code",
   "execution_count": 30,
   "metadata": {},
   "outputs": [
    {
     "data": {
      "text/plain": [
       "Score            0\n",
       "Ranked           0\n",
       "Popularity       0\n",
       "Rating           0\n",
       "Favorites        0\n",
       "Type             0\n",
       "Name             0\n",
       "Genres          63\n",
       "Producers     7794\n",
       "Studios       7079\n",
       "dtype: int64"
      ]
     },
     "execution_count": 30,
     "metadata": {},
     "output_type": "execute_result"
    }
   ],
   "source": [
    "data1fillDF.isnull().sum()"
   ]
  },
  {
   "cell_type": "markdown",
   "metadata": {},
   "source": [
    "Vamos a extraer en un dataframe, la lista de los Géneros, Productores y Studio. Una vez con el dataframe, se podrá trabajar con los indices correspondientes de cada fila para relacionarlos a cada uno.  \n",
    "Esto se hace con el fin de volver las columnas **Genre, Producers, Studios** de categóricas a ordinales. Se puede considerar que son categorías porque se repiten entre sí y ayudan a clasificar la información. "
   ]
  },
  {
   "cell_type": "code",
   "execution_count": 31,
   "metadata": {},
   "outputs": [],
   "source": [
    "#Sacando lista de los productores para experimentar\n",
    "#Sacando información de Genres, Producers, Studios.\n",
    "\n",
    "warnings.filterwarnings(\"ignore\")\n",
    "#Método que procesa el dataframe para no repetir código\n",
    "def deconstruir(dataframe, column, line): #Se recibe dataframe objetivo, columna a procesar y linea base\n",
    "  if type(line) != float: #Si no es nulo\n",
    "    for item in line: #Por cada categoría del registro\n",
    "      if ((dataframe == item).any().any()) == False: #Si no se encuentra\n",
    "          dataframe = pd.concat([dataframe, pd.DataFrame([{column : item }])], ignore_index=True) #Se agrega\n",
    "  return dataframe\n",
    "\n",
    "\n",
    "#Se trabajará con dataframe para almacenar los datos de interés para las tres categorías\n",
    "producerdf = pd.DataFrame(columns=['Producer'])\n",
    "genredf = pd.DataFrame(columns=['Genre'])\n",
    "studiodf = pd.DataFrame(columns=['Studio'])\n",
    "\n",
    "#Para cada uno de los registros\n",
    "for i in range(len(data1fillDF)):\n",
    "    producerdf = deconstruir(producerdf, 'Producer', data1fillDF['Producers'][i])\n",
    "    genredf = deconstruir(genredf, 'Genre', data1fillDF['Genres'][i])\n",
    "    studiodf = deconstruir(studiodf, 'Studio', data1fillDF['Studios'][i])\n"
   ]
  },
  {
   "cell_type": "markdown",
   "metadata": {},
   "source": [
    "Ahora vamos a multiplicar las filas por estas categorías de la siguiente manera:  \n",
    "- Se van a multiplicar las filas a excepción de los productores, que se van a almacenar en el nuevo dataframe con números correspondientes a las filas del dataframe **producerdf**. Es decir, si un anime pertenece a 4 productores, habrán ahora 4 filas de ese anime con productores distintos.\n",
    "- Se repite este mismo proceso con el dataframe resultante, esta vez con **Genres**\n",
    "- Se repite este mismo proceso con el dataframe resultante, esta vez con **Studios**"
   ]
  },
  {
   "cell_type": "code",
   "execution_count": 32,
   "metadata": {},
   "outputs": [],
   "source": [
    "bigdata1 = pd.DataFrame(columns=['Score', 'Ranked', 'Popularity', 'Rating', 'Favorites', 'Type', 'Name',\n",
    "       'Genres', 'Producers', 'Studios'])\n",
    "bigdata2 = pd.DataFrame(columns=['Score', 'Ranked', 'Popularity', 'Rating', 'Favorites', 'Type', 'Name',\n",
    "       'Genres', 'Producers', 'Studios'])\n",
    "bigdata3 = pd.DataFrame(columns=['Score', 'Ranked', 'Popularity', 'Rating', 'Favorites', 'Type', 'Name',\n",
    "       'Genres', 'Producers', 'Studios'])"
   ]
  },
  {
   "cell_type": "code",
   "execution_count": 33,
   "metadata": {},
   "outputs": [],
   "source": [
    "for i in range(len(data1fillDF)): #Por cada fila\n",
    "#for i in range(20): #Por cada fila existtente\n",
    "    #Productores\n",
    "    if type(data1fillDF['Producers'][i]) != float: #Si no es nulo\n",
    "        for j in data1fillDF['Producers'][i]: #Por cada productor de la fila existente\n",
    "            temp = int(np.where(producerdf[\"Producer\"] == j)[0]) #Se saca el index\n",
    "            bigdata1 = pd.concat([bigdata1, pd.DataFrame([{'Score': data1fillDF['Score'][i], 'Ranked': data1fillDF['Ranked'][i], 'Popularity': data1fillDF['Popularity'][i], \n",
    "                    'Rating': data1fillDF['Rating'][i], 'Favorites': data1fillDF['Favorites'][i], 'Type': data1fillDF['Type'][i], 'Name': data1fillDF['Name'][i],\n",
    "                    \"Producers\" : temp, 'Genres': data1fillDF['Genres'][i], 'Studios' : data1fillDF['Studios'][i]}])], ignore_index=True) #Se agrega\n",
    "    else: #Si es nulo se deja todo normal\n",
    "        bigdata1 = pd.concat([bigdata1, pd.DataFrame([{'Score': data1fillDF['Score'][i], 'Ranked': data1fillDF['Ranked'][i], 'Popularity': data1fillDF['Popularity'][i], \n",
    "                    'Rating': data1fillDF['Rating'][i], 'Favorites': data1fillDF['Favorites'][i], 'Type': data1fillDF['Type'][i], 'Name': data1fillDF['Name'][i],\n",
    "                    \"Producers\" : data1fillDF['Producers'][i], 'Genres': data1fillDF['Genres'][i], 'Studios' : data1fillDF['Studios'][i]}])], ignore_index=True) #Se agrega\n",
    "    \n",
    "\n",
    "for i in range(len(bigdata1)): #Por cada fila\n",
    "#for i in range(20): #Por cada fila nueva\n",
    "    #Generos\n",
    "    if type(bigdata1['Genres'][i]) != float: #Si no es nulo\n",
    "        for j in bigdata1['Genres'][i]: #Por cada genero de la fila existente\n",
    "            temp = int(np.where(genredf[\"Genre\"] == j)[0]) #Se saca el index\n",
    "            bigdata2 = pd.concat([bigdata2, pd.DataFrame([{'Score': bigdata1['Score'][i], 'Ranked': bigdata1['Ranked'][i], 'Popularity': bigdata1['Popularity'][i], \n",
    "                    'Rating': bigdata1['Rating'][i], 'Favorites': bigdata1['Favorites'][i], 'Type': bigdata1['Type'][i], 'Name': bigdata1['Name'][i],\n",
    "                    \"Genres\" : temp, 'Producers': bigdata1['Producers'][i], 'Studios' : bigdata1['Studios'][i]}])], ignore_index=True) #Se agrega\n",
    "    else: #Si es nulo se deja todo igual \n",
    "        bigdata2 = pd.concat([bigdata2, pd.DataFrame([{'Score': bigdata1['Score'][i], 'Ranked': bigdata1['Ranked'][i], 'Popularity': bigdata1['Popularity'][i], \n",
    "                    'Rating': bigdata1['Rating'][i], 'Favorites': bigdata1['Favorites'][i], 'Type': bigdata1['Type'][i], 'Name': bigdata1['Name'][i],\n",
    "                    \"Genres\" : bigdata1['Genres'][i], 'Producers': bigdata1['Producers'][i], 'Studios' : bigdata1['Studios'][i]}])], ignore_index=True) #Se agrega\n",
    "\n",
    "#Studio\n",
    "for i in range(len(bigdata2)): #Por cada fila\n",
    "#for i in range(20): #Por cada fila nueva\n",
    "    if type(bigdata2['Studios'][i]) != float: #Si no es nulo\n",
    "        for j in bigdata2['Studios'][i]: #Por cada productor de la fila existente\n",
    "            temp = int(np.where(studiodf[\"Studio\"] == j)[0]) #Se saca el index\n",
    "            bigdata3 = pd.concat([bigdata3, pd.DataFrame([{'Score': bigdata2['Score'][i], 'Ranked': bigdata2['Ranked'][i], 'Popularity': bigdata2['Popularity'][i], \n",
    "                    'Rating': bigdata2['Rating'][i], 'Favorites': bigdata2['Favorites'][i], 'Type': bigdata2['Type'][i], 'Name': bigdata2['Name'][i],\n",
    "                    \"Studios\" : temp, 'Genres': bigdata2['Genres'][i], 'Producers' : bigdata2['Producers'][i]}])], ignore_index=True) #Se agrega\n",
    "    else: #Si es nulo, se deja todo igual\n",
    "            bigdata3 = pd.concat([bigdata3, pd.DataFrame([{'Score': bigdata2['Score'][i], 'Ranked': bigdata2['Ranked'][i], 'Popularity': bigdata2['Popularity'][i], \n",
    "                    'Rating': bigdata2['Rating'][i], 'Favorites': bigdata2['Favorites'][i], 'Type': bigdata2['Type'][i], 'Name': bigdata2['Name'][i],\n",
    "                    \"Studios\" : bigdata2['Studios'][i], 'Genres': bigdata2['Genres'][i], 'Producers' : bigdata2['Producers'][i]}])], ignore_index=True) #Se agrega\n",
    "        "
   ]
  },
  {
   "cell_type": "markdown",
   "metadata": {},
   "source": [
    "Se confirma que la información este llena y bien distribuida, a excepción de los nulos (Genres, Producers, Studios). "
   ]
  },
  {
   "cell_type": "code",
   "execution_count": 34,
   "metadata": {},
   "outputs": [
    {
     "data": {
      "text/html": [
       "<div>\n",
       "<style scoped>\n",
       "    .dataframe tbody tr th:only-of-type {\n",
       "        vertical-align: middle;\n",
       "    }\n",
       "\n",
       "    .dataframe tbody tr th {\n",
       "        vertical-align: top;\n",
       "    }\n",
       "\n",
       "    .dataframe thead th {\n",
       "        text-align: right;\n",
       "    }\n",
       "</style>\n",
       "<table border=\"1\" class=\"dataframe\">\n",
       "  <thead>\n",
       "    <tr style=\"text-align: right;\">\n",
       "      <th></th>\n",
       "      <th>Score</th>\n",
       "      <th>Ranked</th>\n",
       "      <th>Popularity</th>\n",
       "      <th>Rating</th>\n",
       "      <th>Favorites</th>\n",
       "      <th>Type</th>\n",
       "      <th>Name</th>\n",
       "      <th>Genres</th>\n",
       "      <th>Producers</th>\n",
       "      <th>Studios</th>\n",
       "    </tr>\n",
       "  </thead>\n",
       "  <tbody>\n",
       "    <tr>\n",
       "      <th>0</th>\n",
       "      <td>8.78</td>\n",
       "      <td>28.0</td>\n",
       "      <td>39.0</td>\n",
       "      <td>3.0</td>\n",
       "      <td>61971.0</td>\n",
       "      <td>5.0</td>\n",
       "      <td>Cowboy Bebop</td>\n",
       "      <td>0</td>\n",
       "      <td>0</td>\n",
       "      <td>0</td>\n",
       "    </tr>\n",
       "    <tr>\n",
       "      <th>1</th>\n",
       "      <td>8.78</td>\n",
       "      <td>28.0</td>\n",
       "      <td>39.0</td>\n",
       "      <td>3.0</td>\n",
       "      <td>61971.0</td>\n",
       "      <td>5.0</td>\n",
       "      <td>Cowboy Bebop</td>\n",
       "      <td>1</td>\n",
       "      <td>0</td>\n",
       "      <td>0</td>\n",
       "    </tr>\n",
       "    <tr>\n",
       "      <th>2</th>\n",
       "      <td>8.78</td>\n",
       "      <td>28.0</td>\n",
       "      <td>39.0</td>\n",
       "      <td>3.0</td>\n",
       "      <td>61971.0</td>\n",
       "      <td>5.0</td>\n",
       "      <td>Cowboy Bebop</td>\n",
       "      <td>2</td>\n",
       "      <td>0</td>\n",
       "      <td>0</td>\n",
       "    </tr>\n",
       "  </tbody>\n",
       "</table>\n",
       "</div>"
      ],
      "text/plain": [
       "   Score  Ranked  Popularity  Rating  Favorites  Type          Name Genres  \\\n",
       "0   8.78    28.0        39.0     3.0    61971.0   5.0  Cowboy Bebop      0   \n",
       "1   8.78    28.0        39.0     3.0    61971.0   5.0  Cowboy Bebop      1   \n",
       "2   8.78    28.0        39.0     3.0    61971.0   5.0  Cowboy Bebop      2   \n",
       "\n",
       "  Producers Studios  \n",
       "0         0       0  \n",
       "1         0       0  \n",
       "2         0       0  "
      ]
     },
     "execution_count": 34,
     "metadata": {},
     "output_type": "execute_result"
    }
   ],
   "source": [
    "bigdata3.head(3)"
   ]
  },
  {
   "cell_type": "code",
   "execution_count": 35,
   "metadata": {},
   "outputs": [
    {
     "data": {
      "text/html": [
       "<div>\n",
       "<style scoped>\n",
       "    .dataframe tbody tr th:only-of-type {\n",
       "        vertical-align: middle;\n",
       "    }\n",
       "\n",
       "    .dataframe tbody tr th {\n",
       "        vertical-align: top;\n",
       "    }\n",
       "\n",
       "    .dataframe thead th {\n",
       "        text-align: right;\n",
       "    }\n",
       "</style>\n",
       "<table border=\"1\" class=\"dataframe\">\n",
       "  <thead>\n",
       "    <tr style=\"text-align: right;\">\n",
       "      <th></th>\n",
       "      <th>Score</th>\n",
       "      <th>Ranked</th>\n",
       "      <th>Popularity</th>\n",
       "      <th>Rating</th>\n",
       "      <th>Favorites</th>\n",
       "      <th>Type</th>\n",
       "      <th>Name</th>\n",
       "      <th>Genres</th>\n",
       "      <th>Producers</th>\n",
       "      <th>Studios</th>\n",
       "    </tr>\n",
       "  </thead>\n",
       "  <tbody>\n",
       "    <tr>\n",
       "      <th>96946</th>\n",
       "      <td>4.115130</td>\n",
       "      <td>14564.0</td>\n",
       "      <td>17565.0</td>\n",
       "      <td>2.0</td>\n",
       "      <td>2.0</td>\n",
       "      <td>5.0</td>\n",
       "      <td>Yama no Susume: Next Summit</td>\n",
       "      <td>2</td>\n",
       "      <td>1503</td>\n",
       "      <td>402</td>\n",
       "    </tr>\n",
       "    <tr>\n",
       "      <th>96947</th>\n",
       "      <td>4.193093</td>\n",
       "      <td>14287.0</td>\n",
       "      <td>17563.0</td>\n",
       "      <td>0.0</td>\n",
       "      <td>0.0</td>\n",
       "      <td>5.0</td>\n",
       "      <td>Scarlet Nexus</td>\n",
       "      <td>0</td>\n",
       "      <td>1773</td>\n",
       "      <td>0</td>\n",
       "    </tr>\n",
       "    <tr>\n",
       "      <th>96948</th>\n",
       "      <td>4.193093</td>\n",
       "      <td>14287.0</td>\n",
       "      <td>17563.0</td>\n",
       "      <td>0.0</td>\n",
       "      <td>0.0</td>\n",
       "      <td>5.0</td>\n",
       "      <td>Scarlet Nexus</td>\n",
       "      <td>12</td>\n",
       "      <td>1773</td>\n",
       "      <td>0</td>\n",
       "    </tr>\n",
       "  </tbody>\n",
       "</table>\n",
       "</div>"
      ],
      "text/plain": [
       "          Score   Ranked  Popularity  Rating  Favorites  Type  \\\n",
       "96946  4.115130  14564.0     17565.0     2.0        2.0   5.0   \n",
       "96947  4.193093  14287.0     17563.0     0.0        0.0   5.0   \n",
       "96948  4.193093  14287.0     17563.0     0.0        0.0   5.0   \n",
       "\n",
       "                              Name Genres Producers Studios  \n",
       "96946  Yama no Susume: Next Summit      2      1503     402  \n",
       "96947                Scarlet Nexus      0      1773       0  \n",
       "96948                Scarlet Nexus     12      1773       0  "
      ]
     },
     "execution_count": 35,
     "metadata": {},
     "output_type": "execute_result"
    }
   ],
   "source": [
    "bigdata3.tail(3)"
   ]
  },
  {
   "cell_type": "markdown",
   "metadata": {},
   "source": [
    "Se confirma la presencia de los nulos. "
   ]
  },
  {
   "cell_type": "code",
   "execution_count": 36,
   "metadata": {},
   "outputs": [
    {
     "data": {
      "text/plain": [
       "Score             0\n",
       "Ranked            0\n",
       "Popularity        0\n",
       "Rating            0\n",
       "Favorites         0\n",
       "Type              0\n",
       "Name              0\n",
       "Genres           69\n",
       "Producers     20583\n",
       "Studios       16489\n",
       "dtype: int64"
      ]
     },
     "execution_count": 36,
     "metadata": {},
     "output_type": "execute_result"
    }
   ],
   "source": [
    "bigdata3.isnull().sum()"
   ]
  },
  {
   "cell_type": "markdown",
   "metadata": {},
   "source": [
    "Ahora tenemos un dataframe con todos los datos individuales en formato numérico. Ahora si es hora de llenar los nulos. "
   ]
  },
  {
   "cell_type": "code",
   "execution_count": 37,
   "metadata": {},
   "outputs": [
    {
     "data": {
      "text/plain": [
       "Text(0.5, 1.0, 'Modificacion')"
      ]
     },
     "execution_count": 37,
     "metadata": {},
     "output_type": "execute_result"
    },
    {
     "data": {
      "image/png": "[encoded data removed]",
      "text/plain": [
       "<Figure size 1000x600 with 2 Axes>"
      ]
     },
     "metadata": {},
     "output_type": "display_data"
    }
   ],
   "source": [
    "#Imputación multiple para la primera linea\n",
    "mice_impute = IterativeImputer()\n",
    "Data = mice_impute.fit_transform(bigdata3.drop(['Name'], axis=1))\n",
    "Data1MI= pd.DataFrame(Data)\n",
    "\n",
    "# Verificar si cambiamos distribucion\n",
    "plt.figure(figsize=(10,6)) \n",
    "plt.subplot(121)\n",
    "sns.histplot(bigdata3['Score'])\n",
    "plt.title('Original')\n",
    "plt.subplot(122)\n",
    "sns.histplot(Data1MI[0])\n",
    "plt.title('Modificacion')"
   ]
  },
  {
   "cell_type": "code",
   "execution_count": 38,
   "metadata": {},
   "outputs": [
    {
     "data": {
      "text/plain": [
       "Text(0.5, 1.0, 'Modificacion')"
      ]
     },
     "execution_count": 38,
     "metadata": {},
     "output_type": "execute_result"
    },
    {
     "data": {
      "image/png": "[encoded data removed]",
      "text/plain": [
       "<Figure size 1000x600 with 2 Axes>"
      ]
     },
     "metadata": {},
     "output_type": "display_data"
    }
   ],
   "source": [
    "imputer = KNNImputer(n_neighbors= 3).set_output(transform='pandas')\n",
    "Data1KNN = imputer.fit_transform(bigdata3.drop(['Name'], axis=1))\n",
    "\n",
    "# Verificar si cambiamos distribucion\n",
    "plt.figure(figsize=(10,6)) \n",
    "plt.subplot(121)\n",
    "sns.histplot(bigdata3['Score'])\n",
    "plt.title('Original')\n",
    "plt.subplot(122)\n",
    "sns.histplot(Data1KNN['Score'])\n",
    "plt.title('Modificacion')"
   ]
  },
  {
   "cell_type": "markdown",
   "metadata": {},
   "source": [
    "Ambos casos mantuvieron la distribución. Se va a usar el primero."
   ]
  },
  {
   "cell_type": "code",
   "execution_count": 39,
   "metadata": {},
   "outputs": [
    {
     "data": {
      "text/html": [
       "<div>\n",
       "<style scoped>\n",
       "    .dataframe tbody tr th:only-of-type {\n",
       "        vertical-align: middle;\n",
       "    }\n",
       "\n",
       "    .dataframe tbody tr th {\n",
       "        vertical-align: top;\n",
       "    }\n",
       "\n",
       "    .dataframe thead th {\n",
       "        text-align: right;\n",
       "    }\n",
       "</style>\n",
       "<table border=\"1\" class=\"dataframe\">\n",
       "  <thead>\n",
       "    <tr style=\"text-align: right;\">\n",
       "      <th></th>\n",
       "      <th>Score</th>\n",
       "      <th>Ranked</th>\n",
       "      <th>Popularity</th>\n",
       "      <th>Rating</th>\n",
       "      <th>Favorites</th>\n",
       "      <th>Type</th>\n",
       "      <th>Genres</th>\n",
       "      <th>Producers</th>\n",
       "      <th>Studios</th>\n",
       "      <th>Name</th>\n",
       "    </tr>\n",
       "  </thead>\n",
       "  <tbody>\n",
       "    <tr>\n",
       "      <th>96947</th>\n",
       "      <td>4.193093</td>\n",
       "      <td>14287.0</td>\n",
       "      <td>17563.0</td>\n",
       "      <td>0.0</td>\n",
       "      <td>0.0</td>\n",
       "      <td>5.0</td>\n",
       "      <td>0.0</td>\n",
       "      <td>1773.0</td>\n",
       "      <td>0.0</td>\n",
       "      <td>Scarlet Nexus</td>\n",
       "    </tr>\n",
       "    <tr>\n",
       "      <th>96948</th>\n",
       "      <td>4.193093</td>\n",
       "      <td>14287.0</td>\n",
       "      <td>17563.0</td>\n",
       "      <td>0.0</td>\n",
       "      <td>0.0</td>\n",
       "      <td>5.0</td>\n",
       "      <td>12.0</td>\n",
       "      <td>1773.0</td>\n",
       "      <td>0.0</td>\n",
       "      <td>Scarlet Nexus</td>\n",
       "    </tr>\n",
       "  </tbody>\n",
       "</table>\n",
       "</div>"
      ],
      "text/plain": [
       "          Score   Ranked  Popularity  Rating  Favorites  Type  Genres  \\\n",
       "96947  4.193093  14287.0     17563.0     0.0        0.0   5.0     0.0   \n",
       "96948  4.193093  14287.0     17563.0     0.0        0.0   5.0    12.0   \n",
       "\n",
       "       Producers  Studios           Name  \n",
       "96947     1773.0      0.0  Scarlet Nexus  \n",
       "96948     1773.0      0.0  Scarlet Nexus  "
      ]
     },
     "execution_count": 39,
     "metadata": {},
     "output_type": "execute_result"
    }
   ],
   "source": [
    "#Se agregan los nombres correspondientes y los nombres de los animes\n",
    "Data1MI = Data1MI.rename(columns={0: 'Score',1: 'Ranked',2: 'Popularity',3: 'Rating',4: 'Favorites',5: 'Type',6:'Genres',7:'Producers',8:'Studios'})\n",
    "Data1MI['Name'] = bigdata3['Name']\n",
    "Data1MI.tail(2)"
   ]
  },
  {
   "cell_type": "code",
   "execution_count": 40,
   "metadata": {},
   "outputs": [],
   "source": [
    "#Eliminando los valores no enteros \n",
    "for i in range(len(Data1MI)):\n",
    "    Data1MI['Genres'][i]=math.trunc(Data1MI['Genres'][i])\n",
    "    Data1MI['Producers'][i]=math.trunc(Data1MI['Producers'][i])\n",
    "    Data1MI['Studios'][i]=math.trunc(Data1MI['Studios'][i])"
   ]
  },
  {
   "cell_type": "code",
   "execution_count": 41,
   "metadata": {},
   "outputs": [
    {
     "data": {
      "text/plain": [
       "Score         0\n",
       "Ranked        0\n",
       "Popularity    0\n",
       "Rating        0\n",
       "Favorites     0\n",
       "Type          0\n",
       "Genres        0\n",
       "Producers     0\n",
       "Studios       0\n",
       "Name          0\n",
       "dtype: int64"
      ]
     },
     "execution_count": 41,
     "metadata": {},
     "output_type": "execute_result"
    }
   ],
   "source": [
    "#Ya tenemos los nulos resueltos\n",
    "Data1MI.isnull().sum()"
   ]
  },
  {
   "cell_type": "markdown",
   "metadata": {},
   "source": [
    "### Outliers"
   ]
  },
  {
   "cell_type": "markdown",
   "metadata": {},
   "source": [
    "Se van a analizar los siguientes modelos para decidir cuál es el más apto a la hora de identificar datos atípicos:  \n",
    "- Isolation Forest  \n",
    "- Minimum Covariance Determinant  \n",
    "- Local Outlier Factor  \n",
    "- One-Class SVM  "
   ]
  },
  {
   "cell_type": "code",
   "execution_count": 42,
   "metadata": {},
   "outputs": [],
   "source": [
    "#Preparando dataframe para comparación\n",
    "modelResultParameters = pd.DataFrame(columns=['Name','MAE','Size','Outliers'])\n",
    "modelResultParameters['Name'] = ['Original','IsolationForest','MinimumCovarianceDeterminant','LocalOutlierFactor','One-ClassSVM']"
   ]
  },
  {
   "cell_type": "markdown",
   "metadata": {},
   "source": [
    "Métodos de interes para evitar repetición de código. "
   ]
  },
  {
   "cell_type": "code",
   "execution_count": 43,
   "metadata": {},
   "outputs": [],
   "source": [
    "def MAE (column, data, yhat): #Método para filtrar los errores MAE el una vez con el modelo\n",
    "    #Recibe la columna de interés, el dataframe base y la lista de outliers\n",
    "    # seleccionar todas las filas que no son outliers\n",
    "    mask = yhat == -1 # filtro\n",
    "\n",
    "    filterX=data.copy() #Creando dataframe para guia\n",
    "    filterX['Pass']=mask #Agregando fila para el filtro\n",
    "    FilterX=filterX.copy()#Creando dataframe para datos sin outliers\n",
    "    FilterY=y_train.copy()#Creando dataframe para datos sin outliers\n",
    "    for index, row in filterX.iterrows(): #por cada fila\n",
    "        if (row['Pass']): #Si es un outlier\n",
    "            FilterX = FilterX.drop(index) #Se elimina esa fila\n",
    "            FilterY = FilterY.drop(index) #Y en el vector objetivo también\n",
    "    FilterX = FilterX.drop ('Pass', axis = 1) #Se elimina la fila de Pass\n",
    "\n",
    "    X_train_i, y_train_i = FilterX, FilterY\n",
    "    # Ajustar modelo\n",
    "    model = LinearRegression()\n",
    "    model.fit(X_train_i, y_train_i)\n",
    "    # evaluar el modelo\n",
    "    yhat_i = model.predict(X_test)\n",
    "    # evaluar predicciones\n",
    "    mae = mean_absolute_error(y_test, yhat_i)\n",
    "    print(column)\n",
    "    print('MAE: %.3f' % mae)\n",
    "\n",
    "    #Agregando a dataframe\n",
    "    ind = int(modelResultParameters.loc[modelResultParameters['Name'] == column].index[0])\n",
    "    modelResultParameters['MAE'][ind] = mae\n",
    "\n",
    "    "
   ]
  },
  {
   "cell_type": "code",
   "execution_count": 44,
   "metadata": {},
   "outputs": [],
   "source": [
    "def filtrarDataframe (column, data, yhat): #Método para filtrar el dataframe una vez con el modelo\n",
    "    #Recibe nombre de la columna, dataframe base y array de outliers\n",
    "    # seleccionar filas que no son outliers\n",
    "    mask = yhat == -1\n",
    "    filter=data.copy() #Creando dataframe para guia\n",
    "    Filtered=filter.copy()#Creando dataframe para datos sin outliers\n",
    "    filter['Pass']=mask #Agregando fila para el filtro\n",
    "    for index, row in filter.iterrows(): #por cada fila\n",
    "        if (row['Pass']): #Si es un outlier\n",
    "            Filtered = Filtered.drop(index) #Se elimina esa fila\n",
    "\n",
    "    #Agregando a dataframe \n",
    "    ind = int(modelResultParameters.loc[modelResultParameters['Name'] == column].index[0])\n",
    "    modelResultParameters['Size'][ind] = len(Filtered)\n",
    "    modelResultParameters['Outliers'][ind] = list(mask).count(True)\n",
    "    return Filtered #Retorna el dataframe filtrado"
   ]
  },
  {
   "cell_type": "markdown",
   "metadata": {},
   "source": [
    "#### Primera linea"
   ]
  },
  {
   "cell_type": "code",
   "execution_count": 45,
   "metadata": {},
   "outputs": [
    {
     "name": "stdout",
     "output_type": "stream",
     "text": [
      "Error sin haber considerado atípicos:\n",
      "MAE: 0.102\n"
     ]
    }
   ],
   "source": [
    "#Separar en X y y\n",
    "x, y = Data1MI.drop(['Name','Score'], axis=1),Data1MI['Score']\n",
    "# separar en train y test\n",
    "X_train, X_test, y_train, y_test = train_test_split(x, y, test_size=0.33, random_state=1)\n",
    "\n",
    "# ajustar modelo\n",
    "model = LinearRegression()\n",
    "model.fit(X_train, y_train)\n",
    "# obtener predicciones\n",
    "yhat = model.predict(X_test)\n",
    "# evaluar predicciones\n",
    "mae = mean_absolute_error(y_test, yhat)\n",
    "print(\"Error sin haber considerado atípicos:\")\n",
    "print('MAE: %.3f' % mae)"
   ]
  },
  {
   "cell_type": "code",
   "execution_count": 46,
   "metadata": {},
   "outputs": [],
   "source": [
    "#Se prepara el dataframe para exponer los parametros\n",
    "ind = int(modelResultParameters.loc[modelResultParameters['Name'] == 'Original'].index[0])\n",
    "modelResultParameters['MAE'][ind] = mae\n",
    "modelResultParameters['Size'][ind] = len(Data1MI)\n",
    "modelResultParameters['Outliers'][ind] = 0"
   ]
  },
  {
   "cell_type": "code",
   "execution_count": 47,
   "metadata": {},
   "outputs": [
    {
     "name": "stdout",
     "output_type": "stream",
     "text": [
      "LocalOutlierFactor\n",
      "MAE: 0.101\n",
      "IsolationForest\n",
      "MAE: 0.102\n",
      "One-ClassSVM\n",
      "MAE: 0.108\n",
      "MinimumCovarianceDeterminant\n",
      "MAE: 0.127\n"
     ]
    }
   ],
   "source": [
    "#LocalOutlierFactor\n",
    "lof = LocalOutlierFactor(n_neighbors=20,algorithm='auto',metric='minkowski')\n",
    "yhat = lof.fit_predict(X_train)\n",
    "MAE('LocalOutlierFactor', X_train, yhat)\n",
    "\n",
    "# IsolationForest\n",
    "iso = IsolationForest(contamination=0.1) # contamination = proporcion de outliers esperada\n",
    "yhat = iso.fit_predict(X_train)\n",
    "MAE('IsolationForest', X_train, yhat)\n",
    "\n",
    "#One-ClassSVM\n",
    "ee = OneClassSVM(nu=0.1) # nu proporcion de outliers\n",
    "yhat = ee.fit_predict(X_train)\n",
    "MAE('One-ClassSVM', X_train, yhat)\n",
    "\n",
    "#MinimumCovarianceDeterminant\n",
    "ee = EllipticEnvelope(contamination=0.1)\n",
    "yhat = ee.fit_predict(X_train)\n",
    "MAE('MinimumCovarianceDeterminant', X_train, yhat)"
   ]
  },
  {
   "cell_type": "markdown",
   "metadata": {},
   "source": [
    "Ahora se van a aplicar al los datos. "
   ]
  },
  {
   "cell_type": "code",
   "execution_count": 48,
   "metadata": {},
   "outputs": [],
   "source": [
    "#LocalOutlierFactor\n",
    "lof = LocalOutlierFactor(n_neighbors=20,algorithm='auto',metric='minkowski')\n",
    "yhat = lof.fit_predict(Data1MI.drop(['Name'], axis=1))\n",
    "FilteredLOF = filtrarDataframe('LocalOutlierFactor', Data1MI, yhat)\n",
    "\n",
    "# IsolationForest\n",
    "iso = IsolationForest(contamination=0.1) # contamination = proporcion de outliers esperada\n",
    "yhat = iso.fit_predict(Data1MI.drop(['Name'], axis=1))\n",
    "FilteredIF = filtrarDataframe('IsolationForest', Data1MI, yhat)\n",
    "\n",
    "#One-ClassSVM\n",
    "ee = OneClassSVM(nu=0.1) # nu proporcion de outliers\n",
    "yhat = ee.fit_predict(Data1MI.drop(['Name'], axis=1))\n",
    "FilteredOCS = filtrarDataframe('One-ClassSVM', Data1MI, yhat)\n",
    "\n",
    "#MinimumCovarianceDeterminant\n",
    "ee = EllipticEnvelope(contamination=0.1)\n",
    "yhat = ee.fit_predict(Data1MI.drop(['Name'], axis=1))\n",
    "FilteredMCD = filtrarDataframe('MinimumCovarianceDeterminant', Data1MI, yhat)"
   ]
  },
  {
   "cell_type": "code",
   "execution_count": 49,
   "metadata": {},
   "outputs": [
    {
     "data": {
      "text/html": [
       "<div>\n",
       "<style scoped>\n",
       "    .dataframe tbody tr th:only-of-type {\n",
       "        vertical-align: middle;\n",
       "    }\n",
       "\n",
       "    .dataframe tbody tr th {\n",
       "        vertical-align: top;\n",
       "    }\n",
       "\n",
       "    .dataframe thead th {\n",
       "        text-align: right;\n",
       "    }\n",
       "</style>\n",
       "<table border=\"1\" class=\"dataframe\">\n",
       "  <thead>\n",
       "    <tr style=\"text-align: right;\">\n",
       "      <th></th>\n",
       "      <th>Name</th>\n",
       "      <th>MAE</th>\n",
       "      <th>Size</th>\n",
       "      <th>Outliers</th>\n",
       "    </tr>\n",
       "  </thead>\n",
       "  <tbody>\n",
       "    <tr>\n",
       "      <th>0</th>\n",
       "      <td>Original</td>\n",
       "      <td>0.101559</td>\n",
       "      <td>96949</td>\n",
       "      <td>0</td>\n",
       "    </tr>\n",
       "    <tr>\n",
       "      <th>1</th>\n",
       "      <td>IsolationForest</td>\n",
       "      <td>0.101553</td>\n",
       "      <td>87254</td>\n",
       "      <td>9695</td>\n",
       "    </tr>\n",
       "    <tr>\n",
       "      <th>2</th>\n",
       "      <td>MinimumCovarianceDeterminant</td>\n",
       "      <td>0.126806</td>\n",
       "      <td>87254</td>\n",
       "      <td>9695</td>\n",
       "    </tr>\n",
       "    <tr>\n",
       "      <th>3</th>\n",
       "      <td>LocalOutlierFactor</td>\n",
       "      <td>0.101192</td>\n",
       "      <td>91182</td>\n",
       "      <td>5767</td>\n",
       "    </tr>\n",
       "    <tr>\n",
       "      <th>4</th>\n",
       "      <td>One-ClassSVM</td>\n",
       "      <td>0.107944</td>\n",
       "      <td>87256</td>\n",
       "      <td>9693</td>\n",
       "    </tr>\n",
       "  </tbody>\n",
       "</table>\n",
       "</div>"
      ],
      "text/plain": [
       "                           Name       MAE   Size Outliers\n",
       "0                      Original  0.101559  96949        0\n",
       "1               IsolationForest  0.101553  87254     9695\n",
       "2  MinimumCovarianceDeterminant  0.126806  87254     9695\n",
       "3            LocalOutlierFactor  0.101192  91182     5767\n",
       "4                  One-ClassSVM  0.107944  87256     9693"
      ]
     },
     "execution_count": 49,
     "metadata": {},
     "output_type": "execute_result"
    }
   ],
   "source": [
    "modelResultParametersPrimeraLinea = modelResultParameters.copy()\n",
    "modelResultParametersPrimeraLinea"
   ]
  },
  {
   "cell_type": "markdown",
   "metadata": {},
   "source": [
    "#### Segunda linea"
   ]
  },
  {
   "cell_type": "code",
   "execution_count": 50,
   "metadata": {},
   "outputs": [],
   "source": [
    "#Separar en X y y\n",
    "x, y = data2f.drop(['Name','Score'], axis=1),data2f['Score']\n",
    "# separar en train y test\n",
    "X_train, X_test, y_train, y_test = train_test_split(x, y, test_size=0.33, random_state=1)"
   ]
  },
  {
   "cell_type": "code",
   "execution_count": 51,
   "metadata": {},
   "outputs": [
    {
     "name": "stdout",
     "output_type": "stream",
     "text": [
      "Error sin haber considerado atípicos:\n",
      "MAE: 0.625\n"
     ]
    }
   ],
   "source": [
    "# ajustar modelo\n",
    "model = LinearRegression()\n",
    "model.fit(X_train, y_train)\n",
    "# obtener predicciones\n",
    "yhat = model.predict(X_test)\n",
    "# evaluar predicciones\n",
    "mae = mean_absolute_error(y_test, yhat)\n",
    "print(\"Error sin haber considerado atípicos:\")\n",
    "print('MAE: %.3f' % mae)"
   ]
  },
  {
   "cell_type": "code",
   "execution_count": 52,
   "metadata": {},
   "outputs": [],
   "source": [
    "ind = int(modelResultParameters.loc[modelResultParameters['Name'] == 'Original'].index[0])\n",
    "modelResultParameters['MAE'][ind] = mae\n",
    "modelResultParameters['Size'][ind] = len(data2f)\n",
    "modelResultParameters['Outliers'][ind] = 0"
   ]
  },
  {
   "cell_type": "code",
   "execution_count": 53,
   "metadata": {},
   "outputs": [
    {
     "name": "stdout",
     "output_type": "stream",
     "text": [
      "LocalOutlierFactor\n",
      "MAE: 0.622\n",
      "IsolationForest\n",
      "MAE: 1.053\n",
      "One-ClassSVM\n",
      "MAE: 0.921\n",
      "MinimumCovarianceDeterminant\n",
      "MAE: 1.076\n"
     ]
    }
   ],
   "source": [
    "#LocalOutlierFactor\n",
    "lof = LocalOutlierFactor(n_neighbors=20,algorithm='auto',metric='minkowski')\n",
    "yhat = lof.fit_predict(X_train)\n",
    "MAE('LocalOutlierFactor', X_train, yhat)\n",
    "\n",
    "# IsolationForest\n",
    "iso = IsolationForest(contamination=0.1) # contamination = proporcion de outliers esperada\n",
    "yhat = iso.fit_predict(X_train)\n",
    "MAE('IsolationForest', X_train, yhat)\n",
    "\n",
    "#One-ClassSVM\n",
    "ee = OneClassSVM(nu=0.1) # nu proporcion de outliers\n",
    "yhat = ee.fit_predict(X_train)\n",
    "MAE('One-ClassSVM', X_train, yhat)\n",
    "\n",
    "#MinimumCovarianceDeterminant\n",
    "ee = EllipticEnvelope(contamination=0.1)\n",
    "yhat = ee.fit_predict(X_train)\n",
    "MAE('MinimumCovarianceDeterminant', X_train, yhat)"
   ]
  },
  {
   "cell_type": "code",
   "execution_count": 54,
   "metadata": {},
   "outputs": [],
   "source": [
    "#LocalOutlierFactor\n",
    "lof = LocalOutlierFactor(n_neighbors=20,algorithm='auto',metric='minkowski')\n",
    "yhat = lof.fit_predict(data2f.drop(['Name'], axis=1))\n",
    "FilteredLOF2 = filtrarDataframe('LocalOutlierFactor', data2f, yhat)\n",
    "\n",
    "# IsolationForest\n",
    "iso = IsolationForest(contamination=0.1) # contamination = proporcion de outliers esperada\n",
    "yhat = iso.fit_predict(data2f.drop(['Name'], axis=1))\n",
    "FilteredIF2 = filtrarDataframe('IsolationForest', data2f, yhat)\n",
    "\n",
    "#One-ClassSVM\n",
    "ee = OneClassSVM(nu=0.1) # nu proporcion de outliers\n",
    "yhat = ee.fit_predict(data2f.drop(['Name'], axis=1))\n",
    "FilteredOCS2 = filtrarDataframe('One-ClassSVM', data2f, yhat)\n",
    "\n",
    "#MinimumCovarianceDeterminant\n",
    "ee = EllipticEnvelope(contamination=0.1)\n",
    "yhat = ee.fit_predict(data2f.drop(['Name'], axis=1))\n",
    "FilteredMCD2 = filtrarDataframe('MinimumCovarianceDeterminant', data2f, yhat)"
   ]
  },
  {
   "cell_type": "code",
   "execution_count": 55,
   "metadata": {},
   "outputs": [
    {
     "data": {
      "text/html": [
       "<div>\n",
       "<style scoped>\n",
       "    .dataframe tbody tr th:only-of-type {\n",
       "        vertical-align: middle;\n",
       "    }\n",
       "\n",
       "    .dataframe tbody tr th {\n",
       "        vertical-align: top;\n",
       "    }\n",
       "\n",
       "    .dataframe thead th {\n",
       "        text-align: right;\n",
       "    }\n",
       "</style>\n",
       "<table border=\"1\" class=\"dataframe\">\n",
       "  <thead>\n",
       "    <tr style=\"text-align: right;\">\n",
       "      <th></th>\n",
       "      <th>Name</th>\n",
       "      <th>MAE</th>\n",
       "      <th>Size</th>\n",
       "      <th>Outliers</th>\n",
       "    </tr>\n",
       "  </thead>\n",
       "  <tbody>\n",
       "    <tr>\n",
       "      <th>0</th>\n",
       "      <td>Original</td>\n",
       "      <td>0.625159</td>\n",
       "      <td>17562</td>\n",
       "      <td>0</td>\n",
       "    </tr>\n",
       "    <tr>\n",
       "      <th>1</th>\n",
       "      <td>IsolationForest</td>\n",
       "      <td>1.053253</td>\n",
       "      <td>15805</td>\n",
       "      <td>1757</td>\n",
       "    </tr>\n",
       "    <tr>\n",
       "      <th>2</th>\n",
       "      <td>MinimumCovarianceDeterminant</td>\n",
       "      <td>1.076108</td>\n",
       "      <td>15805</td>\n",
       "      <td>1757</td>\n",
       "    </tr>\n",
       "    <tr>\n",
       "      <th>3</th>\n",
       "      <td>LocalOutlierFactor</td>\n",
       "      <td>0.62163</td>\n",
       "      <td>16721</td>\n",
       "      <td>841</td>\n",
       "    </tr>\n",
       "    <tr>\n",
       "      <th>4</th>\n",
       "      <td>One-ClassSVM</td>\n",
       "      <td>0.920521</td>\n",
       "      <td>15805</td>\n",
       "      <td>1757</td>\n",
       "    </tr>\n",
       "  </tbody>\n",
       "</table>\n",
       "</div>"
      ],
      "text/plain": [
       "                           Name       MAE   Size Outliers\n",
       "0                      Original  0.625159  17562        0\n",
       "1               IsolationForest  1.053253  15805     1757\n",
       "2  MinimumCovarianceDeterminant  1.076108  15805     1757\n",
       "3            LocalOutlierFactor   0.62163  16721      841\n",
       "4                  One-ClassSVM  0.920521  15805     1757"
      ]
     },
     "execution_count": 55,
     "metadata": {},
     "output_type": "execute_result"
    }
   ],
   "source": [
    "modelResultParametersSegundaLinea = modelResultParameters.copy()\n",
    "modelResultParametersSegundaLinea"
   ]
  },
  {
   "cell_type": "markdown",
   "metadata": {},
   "source": [
    "#### Análisis"
   ]
  },
  {
   "cell_type": "code",
   "execution_count": 56,
   "metadata": {},
   "outputs": [
    {
     "name": "stdout",
     "output_type": "stream",
     "text": [
      "Primera linea\n",
      "                           Name       MAE   Size Outliers\n",
      "0                      Original  0.101559  96949        0\n",
      "1               IsolationForest  0.101553  87254     9695\n",
      "2  MinimumCovarianceDeterminant  0.126806  87254     9695\n",
      "3            LocalOutlierFactor  0.101192  91182     5767\n",
      "4                  One-ClassSVM  0.107944  87256     9693\n",
      "Segunda linea\n",
      "                           Name       MAE   Size Outliers\n",
      "0                      Original  0.625159  17562        0\n",
      "1               IsolationForest  1.053253  15805     1757\n",
      "2  MinimumCovarianceDeterminant  1.076108  15805     1757\n",
      "3            LocalOutlierFactor   0.62163  16721      841\n",
      "4                  One-ClassSVM  0.920521  15805     1757\n"
     ]
    }
   ],
   "source": [
    "print('Primera linea')\n",
    "print(modelResultParametersPrimeraLinea)\n",
    "print('Segunda linea')\n",
    "print(modelResultParametersSegundaLinea)"
   ]
  },
  {
   "cell_type": "markdown",
   "metadata": {},
   "source": [
    "Para ambos casos, el método Local Outlier Factor mostró un valor menor de error para ambos datos. Una vez filtrados los datos usando cada uno de los modelos planteados, LocalOutlierFactor identificó la mayor cantidad de atípicos para la primera linea, pero la menor cantidad de atípicos para la segunda. Esa diferencia se puede deber a la efectividad del método para casos multivariados como presentados en el actual. \n",
    "\n",
    "Se puede concluir que para ambos casos, el método de LocalOutlierFactor es el más indicado para identificar datos atípicos."
   ]
  }
 ],
 "metadata": {
  "kernelspec": {
   "display_name": "Python 3",
   "language": "python",
   "name": "python3"
  },
  "language_info": {
   "codemirror_mode": {
    "name": "ipython",
    "version": 3
   },
   "file_extension": ".py",
   "mimetype": "text/x-python",
   "name": "python",
   "nbconvert_exporter": "python",
   "pygments_lexer": "ipython3",
   "version": "3.12.4"
  }
 },
 "nbformat": 4,
 "nbformat_minor": 2
}
