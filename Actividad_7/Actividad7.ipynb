{
 "cells": [
  {
   "cell_type": "markdown",
   "metadata": {},
   "source": [
    "# Data Wrangling (Limpieza de datos)  \n",
    "## Actividad 7   \n",
    "### Enunciado  \n",
    "  1. Se debería realizar una limpieza de problemas (outliers, duplicados, valores nulos).  \n",
    "  2. En caso de existir valores nulos decidir si se puede utilizar alguna técnica de imputación ya sea sensible o múltiple.  \n",
    "  3. Se deberán resolver el problema de outliers, para esto se deberá generar una estrategia de identificación ya sea con métodos tradicionales (IQ, Z score, etc) o utilizando aprendizaje de máquina (Isolation Forest, LoF,SVM one Class, etc)."
   ]
  },
  {
   "cell_type": "markdown",
   "metadata": {},
   "source": [
    "# Desarrollo"
   ]
  },
  {
   "cell_type": "markdown",
   "metadata": {},
   "source": [
    "## Planificación\n",
    "Se planea hacer una limpieza de datos usando la siguiente secuencia:  \n",
    "    1. Se buscarán valores nulos  \n",
    "    2. Se verificará el porcentaje de valores nulos.  \n",
    "    3. Si la cantidad de valores nulos es significativo, se descartarán dichos datos. Sino, se tratarán de llenar con algún método conocido.  \n",
    "    4. Una vez tratados los nulos, se tratarán los outliers. \n",
    "\n",
    "### Diseño  \n",
    "Los datos de interés para los futuros modelos serán los siguientes:  \n",
    "Primera linea, variables con interés relacionadas a la retención del usuario:  \n",
    "    - Score: Variable de interés principal  \n",
    "    - Genres: Variable de comparación  \n",
    "    - Producers: Variable de comparación  \n",
    "    - Studios: Variable de comparación  \n",
    "    - Ranked: Variable relevante  \n",
    "    - Popularity: Variable relevante  \n",
    "    - Rating: Variable relevante  \n",
    "    - Favorites: Variable relevante  \n",
    "    - Type: Variable relevante  \n",
    "      \n",
    "Segunda linea, variables con interés a la fidelidad del usuario y el tiempo dedicado:  \n",
    "    - Score: Variable relevante  \n",
    "    - Duration: Variable relevante  \n",
    "    - Episodes: Variable relevante  \n",
    "    - Watching: Variable relevante  \n",
    "    - Completed: Variable relevante  \n",
    "    - On-Hold: Variable relevante  \n",
    "    - Dropped: Variable relevante  \n"
   ]
  },
  {
   "cell_type": "markdown",
   "metadata": {},
   "source": [
    "## Desarrollo técnico"
   ]
  },
  {
   "cell_type": "markdown",
   "metadata": {},
   "source": [
    "Inicialización"
   ]
  },
  {
   "cell_type": "code",
   "execution_count": 243,
   "metadata": {},
   "outputs": [],
   "source": [
    "import warnings\n",
    "import pandas as pd\n",
    "#import missingno as msn \n",
    "from fancyimpute import IterativeImputer\n",
    "from sklearn.impute import KNNImputer\n",
    "\n",
    "import matplotlib.pyplot as plt\n",
    "import seaborn as sns\n",
    "import numpy as np"
   ]
  },
  {
   "cell_type": "code",
   "execution_count": 154,
   "metadata": {},
   "outputs": [
    {
     "data": {
      "text/html": [
       "<div>\n",
       "<style scoped>\n",
       "    .dataframe tbody tr th:only-of-type {\n",
       "        vertical-align: middle;\n",
       "    }\n",
       "\n",
       "    .dataframe tbody tr th {\n",
       "        vertical-align: top;\n",
       "    }\n",
       "\n",
       "    .dataframe thead th {\n",
       "        text-align: right;\n",
       "    }\n",
       "</style>\n",
       "<table border=\"1\" class=\"dataframe\">\n",
       "  <thead>\n",
       "    <tr style=\"text-align: right;\">\n",
       "      <th></th>\n",
       "      <th>MAL_ID</th>\n",
       "      <th>Name</th>\n",
       "      <th>Score</th>\n",
       "      <th>Genres</th>\n",
       "      <th>English name</th>\n",
       "      <th>Japanese name</th>\n",
       "      <th>Type</th>\n",
       "      <th>Episodes</th>\n",
       "      <th>Aired</th>\n",
       "      <th>Premiered</th>\n",
       "      <th>...</th>\n",
       "      <th>Score-10</th>\n",
       "      <th>Score-9</th>\n",
       "      <th>Score-8</th>\n",
       "      <th>Score-7</th>\n",
       "      <th>Score-6</th>\n",
       "      <th>Score-5</th>\n",
       "      <th>Score-4</th>\n",
       "      <th>Score-3</th>\n",
       "      <th>Score-2</th>\n",
       "      <th>Score-1</th>\n",
       "    </tr>\n",
       "  </thead>\n",
       "  <tbody>\n",
       "    <tr>\n",
       "      <th>0</th>\n",
       "      <td>1</td>\n",
       "      <td>Cowboy Bebop</td>\n",
       "      <td>8.78</td>\n",
       "      <td>Action, Adventure, Comedy, Drama, Sci-Fi, Space</td>\n",
       "      <td>Cowboy Bebop</td>\n",
       "      <td>カウボーイビバップ</td>\n",
       "      <td>TV</td>\n",
       "      <td>26</td>\n",
       "      <td>Apr 3, 1998 to Apr 24, 1999</td>\n",
       "      <td>Spring 1998</td>\n",
       "      <td>...</td>\n",
       "      <td>229170.0</td>\n",
       "      <td>182126.0</td>\n",
       "      <td>131625.0</td>\n",
       "      <td>62330.0</td>\n",
       "      <td>20688.0</td>\n",
       "      <td>8904.0</td>\n",
       "      <td>3184.0</td>\n",
       "      <td>1357.0</td>\n",
       "      <td>741.0</td>\n",
       "      <td>1580.0</td>\n",
       "    </tr>\n",
       "    <tr>\n",
       "      <th>1</th>\n",
       "      <td>5</td>\n",
       "      <td>Cowboy Bebop: Tengoku no Tobira</td>\n",
       "      <td>8.39</td>\n",
       "      <td>Action, Drama, Mystery, Sci-Fi, Space</td>\n",
       "      <td>Cowboy Bebop:The Movie</td>\n",
       "      <td>カウボーイビバップ 天国の扉</td>\n",
       "      <td>Movie</td>\n",
       "      <td>1</td>\n",
       "      <td>Sep 1, 2001</td>\n",
       "      <td>Unknown</td>\n",
       "      <td>...</td>\n",
       "      <td>30043.0</td>\n",
       "      <td>49201.0</td>\n",
       "      <td>49505.0</td>\n",
       "      <td>22632.0</td>\n",
       "      <td>5805.0</td>\n",
       "      <td>1877.0</td>\n",
       "      <td>577.0</td>\n",
       "      <td>221.0</td>\n",
       "      <td>109.0</td>\n",
       "      <td>379.0</td>\n",
       "    </tr>\n",
       "  </tbody>\n",
       "</table>\n",
       "<p>2 rows × 35 columns</p>\n",
       "</div>"
      ],
      "text/plain": [
       "   MAL_ID                             Name Score  \\\n",
       "0       1                     Cowboy Bebop  8.78   \n",
       "1       5  Cowboy Bebop: Tengoku no Tobira  8.39   \n",
       "\n",
       "                                            Genres            English name  \\\n",
       "0  Action, Adventure, Comedy, Drama, Sci-Fi, Space            Cowboy Bebop   \n",
       "1            Action, Drama, Mystery, Sci-Fi, Space  Cowboy Bebop:The Movie   \n",
       "\n",
       "    Japanese name   Type Episodes                        Aired    Premiered  \\\n",
       "0       カウボーイビバップ     TV       26  Apr 3, 1998 to Apr 24, 1999  Spring 1998   \n",
       "1  カウボーイビバップ 天国の扉  Movie        1                  Sep 1, 2001      Unknown   \n",
       "\n",
       "   ...  Score-10   Score-9   Score-8  Score-7  Score-6 Score-5 Score-4  \\\n",
       "0  ...  229170.0  182126.0  131625.0  62330.0  20688.0  8904.0  3184.0   \n",
       "1  ...   30043.0   49201.0   49505.0  22632.0   5805.0  1877.0   577.0   \n",
       "\n",
       "   Score-3  Score-2  Score-1  \n",
       "0   1357.0    741.0   1580.0  \n",
       "1    221.0    109.0    379.0  \n",
       "\n",
       "[2 rows x 35 columns]"
      ]
     },
     "execution_count": 154,
     "metadata": {},
     "output_type": "execute_result"
    }
   ],
   "source": [
    "#Lectura del archivo y confirmación de contenido\n",
    "\n",
    "tabla=pd.read_csv('anime.csv',sep=',',encoding='utf-8')\n",
    "tabla.head(2)"
   ]
  },
  {
   "cell_type": "code",
   "execution_count": 155,
   "metadata": {},
   "outputs": [],
   "source": [
    "#Separación de los datos de interés \n",
    "data1 = tabla[['Name','Score', 'Genres', 'Producers', 'Studios','Ranked','Popularity','Rating','Favorites','Type']].copy()\n",
    "data2 = tabla[['Name','Score', 'Duration', 'Episodes', 'Watching','Completed','On-Hold','Dropped']].copy()"
   ]
  },
  {
   "cell_type": "code",
   "execution_count": 156,
   "metadata": {},
   "outputs": [
    {
     "name": "stdout",
     "output_type": "stream",
     "text": [
      "Primera linea:\n",
      "Name          0\n",
      "Score         0\n",
      "Genres        0\n",
      "Producers     0\n",
      "Studios       0\n",
      "Ranked        0\n",
      "Popularity    0\n",
      "Rating        0\n",
      "Favorites     0\n",
      "Type          0\n",
      "dtype: int64\n",
      "Segunda linea:\n",
      "Name         0\n",
      "Score        0\n",
      "Duration     0\n",
      "Episodes     0\n",
      "Watching     0\n",
      "Completed    0\n",
      "On-Hold      0\n",
      "Dropped      0\n",
      "dtype: int64\n"
     ]
    }
   ],
   "source": [
    "#Se verifica que no tenga nulos\n",
    "print('Primera linea:')\n",
    "print(data1.isnull().sum())\n",
    "print('Segunda linea:')\n",
    "print(data2.isnull().sum())"
   ]
  },
  {
   "cell_type": "markdown",
   "metadata": {},
   "source": [
    "Sin embargo, gracias al análisis exploratorio de datos, se sabe que no hay valores nulos, pero si se encuentran valores \"unknown\". En el caso actual, serian equivalentes. Por lo tanto, hay que trabajar los datos unknown. "
   ]
  },
  {
   "cell_type": "code",
   "execution_count": 157,
   "metadata": {},
   "outputs": [
    {
     "name": "stdout",
     "output_type": "stream",
     "text": [
      "Cantidad de filas que presentan nulos: 12190\n",
      "Porcentaje de filas que presentan nulos:\n",
      "69.41122878943172\n"
     ]
    }
   ],
   "source": [
    "nulos = data1.apply(lambda row: row.astype(str).str.contains('Unknown').any(), axis=1).sum()\n",
    "print('Cantidad de filas que presentan nulos: '+str(nulos))\n",
    "print('Porcentaje de filas que presentan nulos:')\n",
    "print((nulos/len(data1))*100)"
   ]
  },
  {
   "cell_type": "code",
   "execution_count": 158,
   "metadata": {},
   "outputs": [
    {
     "name": "stdout",
     "output_type": "stream",
     "text": [
      "Cantidad de filas que presentan nulos: 5266\n",
      "Porcentaje de filas que presentan nulos:\n",
      "29.985195308051477\n"
     ]
    }
   ],
   "source": [
    "nulos = data2.apply(lambda row: row.astype(str).str.contains('Unknown').any(), axis=1).sum()\n",
    "print('Cantidad de filas que presentan nulos: '+str(nulos))\n",
    "print('Porcentaje de filas que presentan nulos:')\n",
    "print((nulos/len(data1))*100)"
   ]
  },
  {
   "cell_type": "markdown",
   "metadata": {},
   "source": [
    "En ambos casos es un porcentaje considerable, por lo que no es bueno perder tanta información.  \n",
    "Se procede a reemplazar los datos.  \n",
    "Se escogido **la imputación multiple o predictiva** porque son demasiados nulos.  "
   ]
  },
  {
   "cell_type": "markdown",
   "metadata": {},
   "source": [
    "¿Donde se encuentran exactamente estos nulos disfrazados de Unknown? "
   ]
  },
  {
   "cell_type": "code",
   "execution_count": 159,
   "metadata": {},
   "outputs": [
    {
     "name": "stdout",
     "output_type": "stream",
     "text": [
      "{'Name': 0, 'Score': 5141, 'Genres': 63, 'Producers': 7794, 'Studios': 7079, 'Ranked': 1762, 'Popularity': 0, 'Rating': 688, 'Favorites': 0, 'Type': 37}\n"
     ]
    }
   ],
   "source": [
    "null = {} #Se crea diccionario para almacenar los unknowns\n",
    "for i in data1.columns: #Por cada columna\n",
    "    null[i] = int((data1[i].values == 'Unknown').sum()) #Se obtiene la cantidad de Unknowns\n",
    "print(null)"
   ]
  },
  {
   "cell_type": "code",
   "execution_count": 160,
   "metadata": {},
   "outputs": [
    {
     "name": "stdout",
     "output_type": "stream",
     "text": [
      "{'Name': 0, 'Score': 5141, 'Duration': 555, 'Episodes': 516, 'Watching': 0, 'Completed': 0, 'On-Hold': 0, 'Dropped': 0}\n"
     ]
    }
   ],
   "source": [
    "null = {} #Se crea diccionario para almacenar los unknowns\n",
    "for i in data2.columns: #Por cada columna\n",
    "    null[i] = int((data2[i].values == 'Unknown').sum()) #Se obtiene la cantidad de Unknowns\n",
    "print(null)"
   ]
  },
  {
   "cell_type": "markdown",
   "metadata": {},
   "source": [
    "### **Procesamiento previo de los datos** \n",
    "Tomado de actividades anteriores"
   ]
  },
  {
   "cell_type": "code",
   "execution_count": 161,
   "metadata": {},
   "outputs": [],
   "source": [
    "warnings.filterwarnings(\"ignore\")\n",
    "#Primera linea \n",
    "#Pasando de lista separada por comas a listas estructuradas\n",
    "def deconstruir(line): #Linea base\n",
    "  if (line == 'Unknown'): #Si es desconocido, se deja igual. \n",
    "      return 'Unknown'\n",
    "  else:\n",
    "    temp = line.split(\",\") #Se separa en una lista separada por comas\n",
    "    return temp\n",
    "\n",
    "#Procesando\n",
    "for i in range(len(data1)): #por cada fila\n",
    "  data1['Genres'][i] = deconstruir(data1['Genres'][i])\n",
    "  data1['Producers'][i] = deconstruir(data1['Producers'][i])\n",
    "  data1['Studios'][i] = deconstruir(data1['Studios'][i])"
   ]
  },
  {
   "cell_type": "code",
   "execution_count": 162,
   "metadata": {},
   "outputs": [],
   "source": [
    "warnings.filterwarnings(\"ignore\")\n",
    "#Segunda linea\n",
    "#Método para procesar el tiempo de duración a float\n",
    "def procesarDateToFloat(line, episodes): #Se recibe la linea base a procesar y la cantidad de episodios\n",
    "  if (line == 'Unknown'): #Si es desconocido, se deja igual. \n",
    "      return 'Unknown'\n",
    "  else:\n",
    "      if (episodes == 'Unknown'): #Si no se sabe cuantos episodios tuvo\n",
    "          epis = 0 #Se asume que tuvo al menos uno\n",
    "      else: #Sino \n",
    "          epis = int(episodes) #Se usa el número de episodios\n",
    "      #Deconstruimos si es necesario entre los que se encuentren\n",
    "      dur = line.split(\" \")\n",
    "      duration = 0 #Variable para colocar la duración en minutos\n",
    "            #Hay varios casos aquí: \n",
    "            #1 Cuando es en segundos \"x sec.\"\n",
    "            #2 Cuando es en segundos por episodios \"x sec. per ep.\"\n",
    "            #3 Cuando es en minutos \"x min.\"\n",
    "            #4 Cuando es en minutos por episodios \"x min. per ep.\"\n",
    "            #5 Cuando es en horas \"x hr.\"\n",
    "            #6 Cuando es en horas y minutos \"x hr. x min.\"\n",
    "\n",
    "      if dur[1] == \"sec.\": #Si es por segundos\n",
    "            duration = float(dur[0]) / 60 #Se divide el valor en 60 para volverlo minutos. \n",
    "            #Queda validado caso 1\n",
    "      elif dur[1] == \"min.\": #Sino, se valida si es por minutos\n",
    "            duration = float(dur[0]) #Se deja el valor en minutos\n",
    "            #Queda validado caso 3\n",
    "      else: #Sino, es por horas\n",
    "            duration = float(dur[0]) * 60 #Se multiplica el valor por 60 para volverlo minutos\n",
    "            #Queda validado caso 5\n",
    "\n",
    "      if len(dur) > 2: #Si el tamaño es mayor a 2, es porque es una duración compuesta\n",
    "            if dur[-1] == \"ep.\": #Si se divide por episodios, se validan casos 2 y 4\n",
    "                  duration = duration * epis #Se multiplica por la cantidad de episodios\n",
    "                  #Quedan validados casos 2 y 4\n",
    "            elif dur[-1] == \"min.\": #Si se divide en horas y minutos, se valida caso 6\n",
    "                  duration = duration + float(dur[2]) #Se suman los minutos\n",
    "      return duration\n",
    "  \n",
    "for i in range(len(data2)): #Por cada fila\n",
    "     data2['Duration'][i] = procesarDateToFloat(data2['Duration'][i], data2['Episodes'][i])"
   ]
  },
  {
   "cell_type": "markdown",
   "metadata": {},
   "source": [
    "Para la primera linea: Ahora se tienen los valores categoricos en una lista estructurada para trabajar mejor.  \n",
    "Para la segunda linea: Ahora se tiene la duración total del anime en minutos. \n",
    "  \n",
    "Se va a tomar los valores 'Unknown' y volvernos valores nulos para poder trabajar adecuadamente con ellos. "
   ]
  },
  {
   "cell_type": "code",
   "execution_count": 163,
   "metadata": {},
   "outputs": [],
   "source": [
    "for i in data1.columns: #Por cada columna\n",
    "    data1[i] = data1[i].apply(lambda x: x if x != 'Unknown' else np.nan) #Se cambia los valores Unknown por NaN"
   ]
  },
  {
   "cell_type": "code",
   "execution_count": 164,
   "metadata": {},
   "outputs": [],
   "source": [
    "for i in data2.columns: #Por cada columna\n",
    "    data2[i] = data2[i].apply(lambda x: x if (x != 'Unknown') else np.nan) #Se cambia los valores Unknown por NaN\n",
    "    data2[i] = data2[i].apply(lambda x: x if (x != 0) else np.nan) #Se cambia los valores 0 por NaN"
   ]
  },
  {
   "cell_type": "code",
   "execution_count": 165,
   "metadata": {},
   "outputs": [
    {
     "data": {
      "text/plain": [
       "Name             0\n",
       "Score         5141\n",
       "Genres          63\n",
       "Producers     7794\n",
       "Studios       7079\n",
       "Ranked        1762\n",
       "Popularity       0\n",
       "Rating         688\n",
       "Favorites        0\n",
       "Type            37\n",
       "dtype: int64"
      ]
     },
     "execution_count": 165,
     "metadata": {},
     "output_type": "execute_result"
    }
   ],
   "source": [
    "data1.isnull().sum() #Ver los nulos de las filas"
   ]
  },
  {
   "cell_type": "code",
   "execution_count": 166,
   "metadata": {},
   "outputs": [
    {
     "data": {
      "text/plain": [
       "Name            0\n",
       "Score        5141\n",
       "Duration      555\n",
       "Episodes      516\n",
       "Watching      357\n",
       "Completed     531\n",
       "On-Hold       871\n",
       "Dropped       376\n",
       "dtype: int64"
      ]
     },
     "execution_count": 166,
     "metadata": {},
     "output_type": "execute_result"
    }
   ],
   "source": [
    "data2.isnull().sum() #Ver los nulos de las filas"
   ]
  },
  {
   "cell_type": "markdown",
   "metadata": {},
   "source": [
    "Ahora si podemos trabajar con valores nulos. "
   ]
  },
  {
   "cell_type": "code",
   "execution_count": 167,
   "metadata": {},
   "outputs": [],
   "source": [
    "#Imputación multiple para la segunda linea\n",
    "mice_impute = IterativeImputer()\n",
    "data2fill = mice_impute.fit_transform(data2[['Score','Duration','Episodes','Watching','Completed','On-Hold','Dropped']])\n",
    "data2fillDF= pd.DataFrame(data2fill)"
   ]
  },
  {
   "cell_type": "code",
   "execution_count": 169,
   "metadata": {},
   "outputs": [
    {
     "data": {
      "text/plain": [
       "Text(0.5, 1.0, 'Modificacion')"
      ]
     },
     "execution_count": 169,
     "metadata": {},
     "output_type": "execute_result"
    },
    {
     "data": {
      "image/png": "[encoded data removed]",
      "text/plain": [
       "<Figure size 1000x600 with 2 Axes>"
      ]
     },
     "metadata": {},
     "output_type": "display_data"
    }
   ],
   "source": [
    "# Verificar si cambiamos distribucion\n",
    "plt.figure(figsize=(10,6)) \n",
    "plt.subplot(121)\n",
    "sns.histplot(data2['Score'])\n",
    "plt.title('Original')\n",
    "plt.subplot(122)\n",
    "sns.histplot(data2fillDF[0])\n",
    "plt.title('Modificacion')"
   ]
  },
  {
   "cell_type": "markdown",
   "metadata": {},
   "source": [
    "Es muy diferente la distribución. Este llenado no es viable. "
   ]
  },
  {
   "cell_type": "code",
   "execution_count": 252,
   "metadata": {},
   "outputs": [
    {
     "data": {
      "text/html": [
       "<div>\n",
       "<style scoped>\n",
       "    .dataframe tbody tr th:only-of-type {\n",
       "        vertical-align: middle;\n",
       "    }\n",
       "\n",
       "    .dataframe tbody tr th {\n",
       "        vertical-align: top;\n",
       "    }\n",
       "\n",
       "    .dataframe thead th {\n",
       "        text-align: right;\n",
       "    }\n",
       "</style>\n",
       "<table border=\"1\" class=\"dataframe\">\n",
       "  <thead>\n",
       "    <tr style=\"text-align: right;\">\n",
       "      <th></th>\n",
       "      <th>Name</th>\n",
       "      <th>Score</th>\n",
       "      <th>Duration</th>\n",
       "      <th>Episodes</th>\n",
       "      <th>Watching</th>\n",
       "      <th>Completed</th>\n",
       "      <th>On-Hold</th>\n",
       "      <th>Dropped</th>\n",
       "    </tr>\n",
       "  </thead>\n",
       "  <tbody>\n",
       "    <tr>\n",
       "      <th>17558</th>\n",
       "      <td>Mieruko-chan</td>\n",
       "      <td>NaN</td>\n",
       "      <td>NaN</td>\n",
       "      <td>NaN</td>\n",
       "      <td>14.0</td>\n",
       "      <td>NaN</td>\n",
       "      <td>14.0</td>\n",
       "      <td>NaN</td>\n",
       "    </tr>\n",
       "    <tr>\n",
       "      <th>17559</th>\n",
       "      <td>Higurashi no Naku Koro ni Sotsu</td>\n",
       "      <td>NaN</td>\n",
       "      <td>NaN</td>\n",
       "      <td>NaN</td>\n",
       "      <td>3.0</td>\n",
       "      <td>NaN</td>\n",
       "      <td>NaN</td>\n",
       "      <td>NaN</td>\n",
       "    </tr>\n",
       "    <tr>\n",
       "      <th>17560</th>\n",
       "      <td>Yama no Susume: Next Summit</td>\n",
       "      <td>NaN</td>\n",
       "      <td>NaN</td>\n",
       "      <td>NaN</td>\n",
       "      <td>13.0</td>\n",
       "      <td>2.0</td>\n",
       "      <td>2.0</td>\n",
       "      <td>1.0</td>\n",
       "    </tr>\n",
       "    <tr>\n",
       "      <th>17561</th>\n",
       "      <td>Scarlet Nexus</td>\n",
       "      <td>NaN</td>\n",
       "      <td>NaN</td>\n",
       "      <td>NaN</td>\n",
       "      <td>4.0</td>\n",
       "      <td>NaN</td>\n",
       "      <td>1.0</td>\n",
       "      <td>1.0</td>\n",
       "    </tr>\n",
       "  </tbody>\n",
       "</table>\n",
       "</div>"
      ],
      "text/plain": [
       "                                  Name Score  Duration Episodes  Watching  \\\n",
       "17558                     Mieruko-chan   NaN       NaN      NaN      14.0   \n",
       "17559  Higurashi no Naku Koro ni Sotsu   NaN       NaN      NaN       3.0   \n",
       "17560      Yama no Susume: Next Summit   NaN       NaN      NaN      13.0   \n",
       "17561                    Scarlet Nexus   NaN       NaN      NaN       4.0   \n",
       "\n",
       "       Completed  On-Hold  Dropped  \n",
       "17558        NaN     14.0      NaN  \n",
       "17559        NaN      NaN      NaN  \n",
       "17560        2.0      2.0      1.0  \n",
       "17561        NaN      1.0      1.0  "
      ]
     },
     "execution_count": 252,
     "metadata": {},
     "output_type": "execute_result"
    }
   ],
   "source": [
    "data2.tail(4)"
   ]
  },
  {
   "cell_type": "markdown",
   "metadata": {},
   "source": [
    "Probemos ahora con imputación multiple KNN"
   ]
  },
  {
   "cell_type": "code",
   "execution_count": 239,
   "metadata": {},
   "outputs": [
    {
     "data": {
      "text/plain": [
       "Text(0.5, 1.0, 'Modificacion')"
      ]
     },
     "execution_count": 239,
     "metadata": {},
     "output_type": "execute_result"
    },
    {
     "data": {
      "image/png": "[encoded data removed]",
      "text/plain": [
       "<Figure size 1000x600 with 2 Axes>"
      ]
     },
     "metadata": {},
     "output_type": "display_data"
    }
   ],
   "source": [
    "imputer = KNNImputer(n_neighbors= 3).set_output(transform='pandas')\n",
    "data2f = imputer.fit_transform(data2.drop('Name', axis=1))\n",
    "\n",
    "# Verificar si cambiamos distribucion\n",
    "plt.figure(figsize=(10,6)) \n",
    "plt.subplot(121)\n",
    "sns.histplot(data2['Score'])\n",
    "plt.title('Original')\n",
    "plt.subplot(122)\n",
    "sns.histplot(data2f['Score'])\n",
    "plt.title('Modificacion')"
   ]
  },
  {
   "cell_type": "markdown",
   "metadata": {},
   "source": [
    "Es más coherente que el anterior. "
   ]
  },
  {
   "cell_type": "code",
   "execution_count": 245,
   "metadata": {},
   "outputs": [],
   "source": [
    "data2f['Name'] = data2['Name']"
   ]
  },
  {
   "cell_type": "code",
   "execution_count": 251,
   "metadata": {},
   "outputs": [
    {
     "data": {
      "text/html": [
       "<div>\n",
       "<style scoped>\n",
       "    .dataframe tbody tr th:only-of-type {\n",
       "        vertical-align: middle;\n",
       "    }\n",
       "\n",
       "    .dataframe tbody tr th {\n",
       "        vertical-align: top;\n",
       "    }\n",
       "\n",
       "    .dataframe thead th {\n",
       "        text-align: right;\n",
       "    }\n",
       "</style>\n",
       "<table border=\"1\" class=\"dataframe\">\n",
       "  <thead>\n",
       "    <tr style=\"text-align: right;\">\n",
       "      <th></th>\n",
       "      <th>Score</th>\n",
       "      <th>Duration</th>\n",
       "      <th>Episodes</th>\n",
       "      <th>Watching</th>\n",
       "      <th>Completed</th>\n",
       "      <th>On-Hold</th>\n",
       "      <th>Dropped</th>\n",
       "      <th>Name</th>\n",
       "    </tr>\n",
       "  </thead>\n",
       "  <tbody>\n",
       "    <tr>\n",
       "      <th>17558</th>\n",
       "      <td>5.676667</td>\n",
       "      <td>2140.000000</td>\n",
       "      <td>425.333333</td>\n",
       "      <td>14.0</td>\n",
       "      <td>132.666667</td>\n",
       "      <td>14.000000</td>\n",
       "      <td>57.000000</td>\n",
       "      <td>Mieruko-chan</td>\n",
       "    </tr>\n",
       "    <tr>\n",
       "      <th>17559</th>\n",
       "      <td>5.993333</td>\n",
       "      <td>17.000000</td>\n",
       "      <td>1.000000</td>\n",
       "      <td>3.0</td>\n",
       "      <td>33.666667</td>\n",
       "      <td>2.666667</td>\n",
       "      <td>19.666667</td>\n",
       "      <td>Higurashi no Naku Koro ni Sotsu</td>\n",
       "    </tr>\n",
       "    <tr>\n",
       "      <th>17560</th>\n",
       "      <td>5.493333</td>\n",
       "      <td>130.666667</td>\n",
       "      <td>4.000000</td>\n",
       "      <td>13.0</td>\n",
       "      <td>2.000000</td>\n",
       "      <td>2.000000</td>\n",
       "      <td>1.000000</td>\n",
       "      <td>Yama no Susume: Next Summit</td>\n",
       "    </tr>\n",
       "    <tr>\n",
       "      <th>17561</th>\n",
       "      <td>6.563333</td>\n",
       "      <td>9.000000</td>\n",
       "      <td>1.000000</td>\n",
       "      <td>4.0</td>\n",
       "      <td>24.666667</td>\n",
       "      <td>1.000000</td>\n",
       "      <td>1.000000</td>\n",
       "      <td>Scarlet Nexus</td>\n",
       "    </tr>\n",
       "  </tbody>\n",
       "</table>\n",
       "</div>"
      ],
      "text/plain": [
       "          Score     Duration    Episodes  Watching   Completed    On-Hold  \\\n",
       "17558  5.676667  2140.000000  425.333333      14.0  132.666667  14.000000   \n",
       "17559  5.993333    17.000000    1.000000       3.0   33.666667   2.666667   \n",
       "17560  5.493333   130.666667    4.000000      13.0    2.000000   2.000000   \n",
       "17561  6.563333     9.000000    1.000000       4.0   24.666667   1.000000   \n",
       "\n",
       "         Dropped                             Name  \n",
       "17558  57.000000                     Mieruko-chan  \n",
       "17559  19.666667  Higurashi no Naku Koro ni Sotsu  \n",
       "17560   1.000000      Yama no Susume: Next Summit  \n",
       "17561   1.000000                    Scarlet Nexus  "
      ]
     },
     "execution_count": 251,
     "metadata": {},
     "output_type": "execute_result"
    }
   ],
   "source": [
    "data2f.tail(4)"
   ]
  },
  {
   "cell_type": "markdown",
   "metadata": {},
   "source": [
    "Ahora tenemos el dataframe de la segunda linea sin valores nulos. Listo para pasar a los Outliers"
   ]
  },
  {
   "cell_type": "code",
   "execution_count": 253,
   "metadata": {},
   "outputs": [],
   "source": [
    "#Imputación multiple para la primera linea"
   ]
  }
 ],
 "metadata": {
  "kernelspec": {
   "display_name": "Python 3",
   "language": "python",
   "name": "python3"
  },
  "language_info": {
   "codemirror_mode": {
    "name": "ipython",
    "version": 3
   },
   "file_extension": ".py",
   "mimetype": "text/x-python",
   "name": "python",
   "nbconvert_exporter": "python",
   "pygments_lexer": "ipython3",
   "version": "3.12.4"
  }
 },
 "nbformat": 4,
 "nbformat_minor": 2
}
