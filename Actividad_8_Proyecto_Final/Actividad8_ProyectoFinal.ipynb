{
 "cells": [
  {
   "cell_type": "markdown",
   "metadata": {},
   "source": [
    "# Proyecto Final  \n",
    "## Actividad 8   \n",
    "### Objetivo general  \n",
    "  Utilizar modelos de Machine Learning para resolver un problema de una industria o negocio.  \n",
    "### Objetivos específicos  \n",
    "  1. Retomar el trabajo realizado en la segunda pre entrega, sumando el trabajo con Machine Learning.  \n",
    "  2. Modelar la situación como un problema de Machine Learning.  \n",
    "  3. Entrenar modelos de Machine Learning.  \n",
    "  4. Realizar ingeniería de atributos y normalización/estandarización de variables.  \n",
    "  5. Seleccionar el modelo con mejor performance.  \n",
    "### Requisitos base\n",
    "  1. Abstracto con motivación y audiencia: Descripción de alto nivel de lo que motiva a analizar los datos elegidos y audiencia que se podría beneficiar de este análisis.  \n",
    "  2. Preguntas/Problema que buscamos resolver: Si bien puede haber más de una problemática a resolver, la problemática principal debe encuadrarse como un problema de clasificación o regresión.  \n",
    "  3. Breve Análisis Exploratorio de Datos (EDA): Análisis descriptivo de los datos mediante visualizaciones y herramientas estadísticas, análisis de valores faltantes.  \n",
    "  4. Ingeniería de atributos: Creación de nuevas variables, transformación de variables existentes (i.e normalización de variables, encoding, etc.).  \n",
    "  5. Entrenamiento y Testeo: Entrenamiento y testeo de al menos 2 modelos distintos de Machine Learning utilizando algún método de validación cruzada.  \n",
    "  6. Optimización: Utilizar alguna técnica de optimización de hiperparámetros (e.g gridsearch, randomizedsearch, etc.).  \n",
    "  7. Selección de modelos: utilizar las métricas apropiadas para la selección del mejor modelo (e.g AUC, MSE, etc.).  "
   ]
  },
  {
   "cell_type": "markdown",
   "metadata": {},
   "source": [
    "# Desarrollo"
   ]
  },
  {
   "cell_type": "markdown",
   "metadata": {},
   "source": [
    "## Planteamiento\n",
    "asd\n",
    "### Objetivo general\n",
    "asdas\n",
    "## Planificación\n",
    "Lenguaje supervisado (se tiene X y Y) -> Clasificación (se desea una categoría) -> Customer retention \n",
    "T  \n",
    "\n",
    "### Diseño  \n",
    "L \n"
   ]
  },
  {
   "cell_type": "markdown",
   "metadata": {},
   "source": [
    "Organizar despues: \n",
    "\n",
    "\n",
    "Primera linea: OLS Regression → score~genre - score~producer -  score~studios\n",
    "\n",
    "Segunda linea: PCA"
   ]
  },
  {
   "cell_type": "markdown",
   "metadata": {},
   "source": [
    "## Desarrollo técnico"
   ]
  },
  {
   "cell_type": "code",
   "execution_count": 7,
   "metadata": {},
   "outputs": [],
   "source": [
    "#Inicialización\n",
    "import pandas as pd\n",
    "\n",
    "#Lectura del archivo y confirmación de contenido\n",
    "\n",
    "tabla=pd.read_csv('anime.csv',sep=',',encoding='utf-8')"
   ]
  },
  {
   "cell_type": "code",
   "execution_count": 2,
   "metadata": {},
   "outputs": [
    {
     "data": {
      "text/plain": [
       "Index(['MAL_ID', 'Name', 'Score', 'Genres', 'English name', 'Japanese name',\n",
       "       'Type', 'Episodes', 'Aired', 'Premiered', 'Producers', 'Licensors',\n",
       "       'Studios', 'Source', 'Duration', 'Rating', 'Ranked', 'Popularity',\n",
       "       'Members', 'Favorites', 'Watching', 'Completed', 'On-Hold', 'Dropped',\n",
       "       'Plan to Watch', 'Score-10', 'Score-9', 'Score-8', 'Score-7', 'Score-6',\n",
       "       'Score-5', 'Score-4', 'Score-3', 'Score-2', 'Score-1'],\n",
       "      dtype='object')"
      ]
     },
     "execution_count": 2,
     "metadata": {},
     "output_type": "execute_result"
    }
   ],
   "source": [
    "tabla.columns"
   ]
  },
  {
   "cell_type": "code",
   "execution_count": 6,
   "metadata": {},
   "outputs": [
    {
     "data": {
      "text/plain": [
       "0        61971\n",
       "1         1174\n",
       "2        12944\n",
       "3          587\n",
       "4           18\n",
       "         ...  \n",
       "17557        6\n",
       "17558       70\n",
       "17559       48\n",
       "17560        2\n",
       "17561        0\n",
       "Name: Favorites, Length: 17562, dtype: int64"
      ]
     },
     "execution_count": 6,
     "metadata": {},
     "output_type": "execute_result"
    }
   ],
   "source": [
    "tabla['Favorites']"
   ]
  },
  {
   "cell_type": "code",
   "execution_count": null,
   "metadata": {},
   "outputs": [],
   "source": [
    "X_train, X_test, y_train, y_test = train_test_split(data2.drop([\"Name\",'Score'], axis=1),data2['Score'],test_size=0.3,random_state=0)\n",
    "imputer = KNNImputer(n_neighbors=5,weights=\"distance\").set_output(transform='pandas')\n",
    "imputer.fit(X_train)\n",
    "X_train_t = imputer.transform(X_train)\n",
    "X_test_t = imputer.transform(X_test)\n",
    "\n",
    "knn = neighbors.KNeighborsClassifier(n_neighbors=5)\n",
    "knn.fit(X_train_t, y_train)\n",
    "y_pred = knn.predict(X_test_t)\n",
    "\n",
    "print(accuracy_score(y_test, y_pred))\n",
    "print(classification_report(y_test, y_pred))\n",
    "print(confusion_matrix(y_test, y_pred))"
   ]
  }
 ],
 "metadata": {
  "kernelspec": {
   "display_name": "Python 3",
   "language": "python",
   "name": "python3"
  },
  "language_info": {
   "codemirror_mode": {
    "name": "ipython",
    "version": 3
   },
   "file_extension": ".py",
   "mimetype": "text/x-python",
   "name": "python",
   "nbconvert_exporter": "python",
   "pygments_lexer": "ipython3",
   "version": "3.12.4"
  }
 },
 "nbformat": 4,
 "nbformat_minor": 2
}
